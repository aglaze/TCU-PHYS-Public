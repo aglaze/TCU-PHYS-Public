{
 "cells": [
  {
   "cell_type": "code",
   "execution_count": null,
   "id": "42e7ea04",
   "metadata": {},
   "outputs": [],
   "source": [
    "pip install vpython"
   ]
  },
  {
   "cell_type": "code",
   "execution_count": null,
   "id": "b78cca3c",
   "metadata": {},
   "outputs": [],
   "source": [
    "#import packages\n",
    "import numpy as np\n",
    "from matplotlib import pylab as plt\n",
    "from vpython import sphere, color, rate"
   ]
  },
  {
   "cell_type": "code",
   "execution_count": null,
   "id": "9216d6dd",
   "metadata": {},
   "outputs": [],
   "source": [
    "#1a\n",
    "\n",
    "#determining value for a5 (not sure if this is what is on the hw. Can't see value for a5)\n",
    "def a5(A,Z):\n",
    "    if A %2 == 0 and Z %2 == 0:\n",
    "        return 12.0\n",
    "    elif A %2 == 0 and Z %2 != 0:\n",
    "        return -12.0\n",
    "    else:\n",
    "        return 0\n",
    "    \n",
    "#function for binding energy B\n",
    "def bind_energy(A,Z):\n",
    "    a1= 15.8\n",
    "    a2= 18.3\n",
    "    a3= 0.714\n",
    "    a4= 23.2\n",
    "    \n",
    "    return ((a1*A) - (a2*A**(2/3)) - a3*((Z**2)/(A**(1/3))) - a4*(((A-2*Z)**2)/A) - (a5(A,Z)/(A**(1/2))))\n",
    "\n",
    "\n",
    "print(bind_energy(58,28))"
   ]
  },
  {
   "cell_type": "code",
   "execution_count": null,
   "id": "9f28c48f",
   "metadata": {},
   "outputs": [],
   "source": [
    "#1b\n",
    "\n",
    "#create a function for the binding energy per nucleon (B/A)\n",
    "def binding_nucleon(A,Z):\n",
    "    return bind_energy(A,Z)/A                  #eq B/A\n",
    "    \n",
    "print(binding_nucleon(58,28))"
   ]
  },
  {
   "cell_type": "code",
   "execution_count": null,
   "id": "d59f572e",
   "metadata": {},
   "outputs": [],
   "source": [
    "#1c\n",
    "#constants\n",
    "a1= 15.8\n",
    "a2= 18.3\n",
    "a3= 0.714\n",
    "a4= 23.2\n",
    "Z= 28\n",
    "\n",
    "#for loop for A from Z to 3Z\n",
    "for A in range(Z, 3*Z):\n",
    "    if A %2 == 0 and Z %2 == 0:\n",
    "        a5 = 12.0\n",
    "    elif A %2 == 0 and Z %2 != 0:\n",
    "        a5 = -12.0\n",
    "    else:\n",
    "        a5 = 0\n",
    "\n",
    "b_energy = (((a1*A) - (a2*A**(2/3)) - a3*((Z**2)/(A**(1/3))) - a4*(((A-2*Z)**2)/A) - (a5/(A**(1/2)))))\n",
    "n_energy = b_energy/A\n",
    "print(A,n_energy)"
   ]
  },
  {
   "cell_type": "code",
   "execution_count": null,
   "id": "856c927d",
   "metadata": {},
   "outputs": [],
   "source": [
    "#1d\n",
    "#for loop for Z in a range from 1-100\n",
    "for Z in range(1,101):\n",
    "    for A in range(Z, 3*Z):             #calculate the A value from Z input\n",
    "        if A %2 == 0 and Z %2 == 0:\n",
    "            a5 = 12.0\n",
    "        elif A %2 == 0 and Z %2 != 0:\n",
    "            a5 = -12.0\n",
    "        else:\n",
    "            a5 = 0\n",
    "len(A)\n",
    "print(A,n_energy)"
   ]
  },
  {
   "cell_type": "code",
   "execution_count": null,
   "id": "56315ae9",
   "metadata": {},
   "outputs": [],
   "source": [
    "#1e\n",
    "#Need to look at 1d to see if values are correct in order to plot"
   ]
  },
  {
   "cell_type": "code",
   "execution_count": null,
   "id": "e3d25ceb",
   "metadata": {},
   "outputs": [],
   "source": [
    "#2a\n",
    "#functions for the +/- quadratic eqs.\n",
    "def f():                                       #function for the positive square root value\n",
    "    return (-b+(b**2-(4*a*c))**(1/2))/(2*a)\n",
    "\n",
    "def g():                                       #function for the negative square root value\n",
    "    return (-b-(b**2-(4*a*c))**(1/2))/(2*a)\n",
    "\n",
    "#constants\n",
    "a = .001                                       #x**2 value\n",
    "b = 1000                                       #x value\n",
    "c = .001                                       #constant value\n",
    "\n",
    "print(f(),g())\n",
    "\n"
   ]
  },
  {
   "cell_type": "code",
   "execution_count": null,
   "id": "a70d557c",
   "metadata": {},
   "outputs": [],
   "source": [
    "#2b\n",
    "#functions for the -/+ inverse quadratic eqs.\n",
    "def f_inv():                                   #function for the inverse, using the negative square root value\n",
    "    return (2*c)/(-b-(b**2-(4*a*c))**(1/2))\n",
    "\n",
    "def g_inv():                                   #function for the inverse, using the positive square root value\n",
    "    return (2*c)/(-b+(b**2-(4*a*c))**(1/2))\n",
    "\n",
    "#constants pulled through from above\n",
    "print(f_inv(),g_inv())\n"
   ]
  },
  {
   "cell_type": "code",
   "execution_count": null,
   "id": "13f63100",
   "metadata": {},
   "outputs": [],
   "source": [
    "#3a\n",
    "#needs work. Could not get animations or spheres to work\n",
    "\n",
    "#constants\n",
    "Mer_radius= 2440\n",
    "Ven_radius= 6052\n",
    "Earth_radius= 6371\n",
    "Mars_radius= 3386\n",
    "Jup_radius= 69173\n",
    "Sat_radius= 57316\n",
    "Sun_radius=695500\n",
    "\n",
    "Mer_r_o= 59.9\n",
    "Ven_r_o= 108.2\n",
    "Earth_r_o= 149.6\n",
    "Mars_r_o= 227.9\n",
    "Jup_r_o= 778.5\n",
    "Sat_r_o= 1433.4\n",
    "\n",
    "Mer_p= 88.0\n",
    "Ven_p= 224.7\n",
    "Earth_p= 365.3\n",
    "Mars_p= 687.0\n",
    "Jup_p= 4331.6\n",
    "Sat_p= 10759.2\n",
    "\n",
    "#attempt to get sphere of the sun\n",
    "sun = sphere(radius = Sun_radius,color=color.yellow)\n",
    "#s = np.empty(7,sphere)\n",
    "\n",
    "#for n in range(7):\n",
    "    #s[n] = sphere()\n",
    "\n",
    "sphere()"
   ]
  },
  {
   "cell_type": "code",
   "execution_count": null,
   "id": "f032abd3",
   "metadata": {},
   "outputs": [],
   "source": [
    "#test code from textbook to try to get some sort of result\n",
    "from math import cos,sin,pi \n",
    "from numpy import arange \n",
    "s = sphere(radius=0.1) \n",
    "d = display()\n",
    "\n",
    "for theta in arange(0,10*pi,0.1): \n",
    "    rate(30) \n",
    "    x = cos(theta) \n",
    "    y = sin(theta) \n",
    "    s.pos = [x,y,0]"
   ]
  }
 ],
 "metadata": {
  "kernelspec": {
   "display_name": "Python 3 (ipykernel)",
   "language": "python",
   "name": "python3"
  },
  "language_info": {
   "codemirror_mode": {
    "name": "ipython",
    "version": 3
   },
   "file_extension": ".py",
   "mimetype": "text/x-python",
   "name": "python",
   "nbconvert_exporter": "python",
   "pygments_lexer": "ipython3",
   "version": "3.9.12"
  }
 },
 "nbformat": 4,
 "nbformat_minor": 5
}
