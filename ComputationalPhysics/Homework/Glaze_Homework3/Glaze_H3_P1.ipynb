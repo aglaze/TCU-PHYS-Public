{
 "cells": [
  {
   "cell_type": "code",
   "execution_count": 1,
   "id": "5e14afbc",
   "metadata": {},
   "outputs": [],
   "source": [
    "import numpy as np\n",
    "from matplotlib import pyplot as plt\n",
    "import scipy.optimize"
   ]
  },
  {
   "cell_type": "markdown",
   "id": "4767f474",
   "metadata": {},
   "source": [
    "# Problem 1: Nonlinear Equations\n",
    "\n",
    "In this problem we examine two bodies of mass $m_1$ and $m_2$ with $m_1 \\ge m_2$. The masses are separated by a distance, $d$, and travel in circular orbits around their mutual center of mass. For this problem, we seek to find the Lagrange points, where the gravitational acceleration due to the masses is zero. The potential for this system is defined by\n",
    "\n",
    "\\begin{equation}\n",
    "    \\Phi = -\\frac{m_1}{|r-r_1|} - \\frac{m_2}{|r-r_2|} - \\frac{1}{2} \\Omega^2 r^2,\n",
    "\\end{equation}\n",
    "\n",
    "with $r_1 \\equiv (x_1,0)$, $r_2 \\equiv (x_2,0)$, $\\Omega^2 = (m_1 + m_2)/d^3$. To find the Lagrange points, we solve for $a_x = -\\partial \\Phi /\\partial x = 0$ and $a_y = -\\partial \\Phi / \\partial y = 0$. Taking these partial derivatives, we find\n",
    "\n",
    "\\begin{equation}\n",
    "    a_x = -\\frac{m_1 (x-x_1)}{((x-x_1)^2 + y^2)^{3/2}} - \\frac{m_2 (x-x_2)}{((x-x_2)^2 + y^2)^{3/2}} + \\frac{(m_1 + m_2)^2 x}{d^6},\n",
    "\\end{equation}\n",
    "\n",
    "and\n",
    "\n",
    "\\begin{equation}\n",
    "    a_y = -\\frac{m_1 y}{((x-x_1)^2 + y^2)^{3/2}} - \\frac{m_2 y}{((x-x_2)^2 + y^2)^{3/2}} + \\frac{(m_1 + m_2)^2 y}{d^6}\n",
    "\\end{equation}"
   ]
  },
  {
   "cell_type": "code",
   "execution_count": 2,
   "id": "c3636210",
   "metadata": {},
   "outputs": [],
   "source": [
    "#The relaxation method from in class:\n",
    "def relaxation(f,i,p):\n",
    "    #arguments of f, the function, i, the initial guess, and p, the precision\n",
    "    x=i\n",
    "    num_iters = 0\n",
    "    while(np.abs(f(x)-x)>p):\n",
    "        print(num_iters,\"    \",x)\n",
    "        x = f(x)\n",
    "        num_iters += 1\n",
    "    \n",
    "    return(x,num_iters)\n",
    "\n",
    "\n",
    "#x and y accelerations:\n",
    "def ax(x, y, m1, m2, d, x1, x2):\n",
    "    return(-(m1*(x-x1)/((x-x1)**2 + y**2)**(3/2) + m2*(x-x2)/((x-x2)**2 + y**2)**(3/2)) + x*(m1+m2)**2 / d**6)\n",
    "\n",
    "def ay(y,x,m1,m2,d,x1,x2):\n",
    "    return(-(m1*y/((x-x1)**2 + y**2)**(3/2) + m2*y/((x-x2)**2 + y**2)**(3/2)) + y*(m1+m2)**2 / d**6)\n",
    "\n",
    "\n",
    "#x and y accelerations, set to zero and solved for x and y respectively:\n",
    "def x_eq_ax(x, y, m1, m2, d, x1, x2):\n",
    "    return((d**6 /((m1+m2)**2)) * (m1*(x-x1)/((x-x1)**2 + y**2)**(3/2) + m2*(x-x2)/((x-x2)**2 + y**2)**(3/2)))\n",
    "\n",
    "def y_eq_ay(y, x, m1, m2, d, x1, x2):\n",
    "    return((d**6 /((m1+m2)**2)) * (m1*y/((x-x1)**2 + y**2)**(3/2) + m2*y/((x-x2)**2 + y**2)**(3/2)))\n",
    "\n",
    "\n",
    "\n",
    "def find_lagrange_points(argv=[]):\n",
    "    #getting user inputs for the arguments\n",
    "    if len(argv)==0:\n",
    "        m1 = float(input(\"Enter m1: \"))\n",
    "        m2 = float(input(\"Enter m2: \"))\n",
    "        d = float(input(\"Enter d:  \"))\n",
    "    elif len(argv)==3:\n",
    "        m1, m2, d = argv\n",
    "    else:\n",
    "        print(\"Improper format of argument vector; length of argv is \",len(argv),\", should be 3. Input arguments now.\")\n",
    "        m1 = float(input(\"Enter m1: \"))\n",
    "        m2 = float(input(\"Enter m2: \"))\n",
    "        d = float(input(\"Enter d:  \"))\n",
    "    \n",
    "    if m1 < m2:\n",
    "        print(\"we assume that m1 >= m2. Please re-enter the arguments with m1 >= m2.\")\n",
    "        m1 = float(input(\"Enter m1: \"))\n",
    "        m2 = float(input(\"Enter m2: \"))\n",
    "        d = float(input(\"Enter d:  \"))\n",
    "    \n",
    "    p = 0.01 # precision for using the relaxation method\n",
    "    \n",
    "    #Setting up the geometry:\n",
    "    x1 = 0 #we call x1 = 0\n",
    "    x2 = x1 + d\n",
    "    \n",
    "    \n",
    "    #We call the relaxation method to find the zeros of the function\n",
    "    #finding the Lagrange points along the x-axis, we restrict y = 0:\n",
    "    #    on the x axis, a_y = 0, by symmetry, so our only interest is in a_x\n",
    "    def fx(x):\n",
    "        return(x_eq_ax(x,0,m1,m2,d,x1,x2))\n",
    "    \n",
    "    #we assume, by convention, that L3 < x1:\n",
    "    L3 = relaxation(fx,-100,p)[0]\n",
    "    \n",
    "    #we assume that x1 < L1 < x2:\n",
    "    L1 = relaxation(fx,(x1+x2)/2,p)[0]\n",
    "    \n",
    "    #we assume that L2 > x2:\n",
    "    L2 = relaxation(fx,100,p)[0]\n",
    "    \n",
    "    \n",
    "    #finding the Lagrange points L4 and L5, which form equilateral triangles with x1 and x2:\n",
    "    #    here, we assume that x = (x1+x2)/2\n",
    "    def fy(y):\n",
    "        return(y_eq_ay(y,(x1+x2)/2,m1,m2,d,x1,x2))\n",
    "    \n",
    "    #we assume, again, by convention, that L4 is at y>0:\n",
    "    L4 = relaxation(fy,p,p)[0]\n",
    "    \n",
    "    #then L5 is at y<0:\n",
    "    L5 = relaxation(fy,-p,p)[0]\n",
    "    \n",
    "    #now we redefine L1, etc. using x and y coords for the output:\n",
    "    L1 = [L1,0]\n",
    "    L2 = [L2,0]\n",
    "    L3 = [L3,0]\n",
    "    L4 = [(x1+x2)/2,L4]\n",
    "    L5 = [(x1+x2)/2,L5]\n",
    "    \n",
    "    return(L1,L2,L3,L4,L5)\n"
   ]
  },
  {
   "cell_type": "code",
   "execution_count": 3,
   "id": "c114d695",
   "metadata": {},
   "outputs": [],
   "source": [
    "#find_lagrange_points()"
   ]
  },
  {
   "cell_type": "code",
   "execution_count": 4,
   "id": "4d6922d8",
   "metadata": {},
   "outputs": [],
   "source": [
    "#I'm having a lot of trouble trying to get this to work with the relaxation method......\n",
    "#I'm trying the scipy root scalar method just to get something done..."
   ]
  },
  {
   "cell_type": "code",
   "execution_count": 11,
   "id": "112e70be",
   "metadata": {},
   "outputs": [],
   "source": [
    "def find_lagrange_points_scipy(argv=[]):\n",
    "    #getting user inputs for the arguments\n",
    "    if len(argv)==0:\n",
    "        m1 = float(input(\"Enter m1: \"))\n",
    "        m2 = float(input(\"Enter m2: \"))\n",
    "        d = float(input(\"Enter d:  \"))\n",
    "    elif len(argv)==3:\n",
    "        m1, m2, d = argv\n",
    "    else:\n",
    "        print(\"Improper format of argument vector; length of argv is \",len(argv),\", should be 3. Input arguments now.\")\n",
    "        m1 = float(input(\"Enter m1: \"))\n",
    "        m2 = float(input(\"Enter m2: \"))\n",
    "        d = float(input(\"Enter d:  \"))\n",
    "    \n",
    "    if m1 < m2:\n",
    "        print(\"we assume that m1 >= m2. Please re-enter the arguments with m1 >= m2.\")\n",
    "        m1 = float(input(\"Enter m1: \"))\n",
    "        m2 = float(input(\"Enter m2: \"))\n",
    "        d = float(input(\"Enter d:  \"))\n",
    "    \n",
    "    p = 0.0001 # precision for using the relaxation method\n",
    "    \n",
    "    #Setting up the geometry:\n",
    "    x1 = 0 #we call x1 = 0\n",
    "    x2 = x1 + d\n",
    "    \n",
    "    \n",
    "    #We call the relaxation method to find the zeros of the function\n",
    "    #finding the Lagrange points along the x-axis, we restrict y = 0:\n",
    "    #    on the x axis, a_y = 0, by symmetry, so our only interest is in a_x\n",
    "    def fx(x):\n",
    "        return(x_eq_ax(x,0,m1,m2,d,x1,x2))\n",
    "    \n",
    "    #we assume, by convention, that L3 < x1:\n",
    "    L3 = (scipy.optimize.root_scalar(fx,x0 = x1-p,bracket=[-np.inf,x1-p/2],xtol=p)).root\n",
    "    \n",
    "    #we assume that x1 < L1 < x2:\n",
    "    L1 = (scipy.optimize.root_scalar(fx,x0=(x1+x2)/2,bracket=[x1+p/2,x2-p/2],xtol=p)).root\n",
    "    \n",
    "    #we assume that L2 > x2:\n",
    "    L2 = (scipy.optimize.root_scalar(fx,x0 = x2+p,bracket=[x2+p/2,np.inf],xtol=p)).root\n",
    "    \n",
    "    \n",
    "    #finding the Lagrange points L4 and L5, which form equilateral triangles with x1 and x2:\n",
    "    #    here, we assume that x = (x1+x2)/2\n",
    "    def fy(y):\n",
    "        return(y_eq_ay(y,(x1+x2)/2,m1,m2,d,x1,x2))\n",
    "    \n",
    "#     #we assume, again, by convention, that L4 is at y>0:\n",
    "#     L4 = scipy.optimize.root_scalar(fy,bracket=[p,2*d],xtol=p)\n",
    "    \n",
    "#     #then L5 is at y<0:\n",
    "#     L5 = scipy.optimize.root_scalar(fy,bracket=[-2*d,-p],xtol=p)\n",
    "    \n",
    "    #we can avoid using root finders by using the fact that L4 and L5 form an equilateral triangle with x1 and x2, by definition:\n",
    "    L4 = d/2 * np.sqrt(3)\n",
    "    \n",
    "    L5 = - d/2 * np.sqrt(3)\n",
    "    \n",
    "    #now we redefine L1, etc. using x and y coords for the output:\n",
    "    L1 = [L1,0]\n",
    "    L2 = [L2,0]\n",
    "    L3 = [L3,0]\n",
    "    L4 = [(x1+x2)/2,L4]\n",
    "    L5 = [(x1+x2)/2,L5]\n",
    "    \n",
    "    return([x1,0],[x2,0],L1,L2,L3,L4,L5)"
   ]
  },
  {
   "cell_type": "code",
   "execution_count": 12,
   "id": "89b3206d",
   "metadata": {},
   "outputs": [],
   "source": [
    "sol1 = find_lagrange_points_scipy([3,2,1])\n",
    "\n",
    "sol2 = find_lagrange_points_scipy([100,1,5])"
   ]
  },
  {
   "cell_type": "markdown",
   "id": "093e5af5",
   "metadata": {},
   "source": [
    "## Part b: Plots of the Results"
   ]
  },
  {
   "cell_type": "code",
   "execution_count": 13,
   "id": "8447595e",
   "metadata": {},
   "outputs": [
    {
     "data": {
      "text/plain": [
       "([0, 0],\n",
       " [1, 0],\n",
       " [0.5505164926567057, 0],\n",
       " [nan, 0],\n",
       " [0.0, 0],\n",
       " [0.5, 0.8660254037844386],\n",
       " [0.5, -0.8660254037844386])"
      ]
     },
     "execution_count": 13,
     "metadata": {},
     "output_type": "execute_result"
    }
   ],
   "source": [
    "sol1"
   ]
  },
  {
   "cell_type": "code",
   "execution_count": 24,
   "id": "db5f4b11",
   "metadata": {},
   "outputs": [
    {
     "data": {
      "text/plain": [
       "Text(0.5, 1.0, 'orange points are the Lagrange Points, blue points are the masses')"
      ]
     },
     "execution_count": 24,
     "metadata": {},
     "output_type": "execute_result"
    },
    {
     "data": {
      "image/png": "[encoded data removed]",
      "text/plain": [
       "<Figure size 640x480 with 1 Axes>"
      ]
     },
     "metadata": {},
     "output_type": "display_data"
    }
   ],
   "source": [
    "x1_list = []\n",
    "y1_list = []\n",
    "for i in sol1:\n",
    "    x1_list.append(i[0])\n",
    "    y1_list.append(i[1])\n",
    "\n",
    "plt.scatter(x1_list,y1_list,c=['blue','blue','orange','orange','orange','orange','orange'],s=[20,20,5,5,5,5,5])\n",
    "plt.axis('equal')\n",
    "plt.xlabel('x')\n",
    "plt.ylabel('y')\n",
    "plt.title('orange points are the Lagrange Points, blue points are the masses')"
   ]
  }
 ],
 "metadata": {
  "kernelspec": {
   "display_name": "Python 3 (ipykernel)",
   "language": "python",
   "name": "python3"
  },
  "language_info": {
   "codemirror_mode": {
    "name": "ipython",
    "version": 3
   },
   "file_extension": ".py",
   "mimetype": "text/x-python",
   "name": "python",
   "nbconvert_exporter": "python",
   "pygments_lexer": "ipython3",
   "version": "3.9.16"
  }
 },
 "nbformat": 4,
 "nbformat_minor": 5
}
