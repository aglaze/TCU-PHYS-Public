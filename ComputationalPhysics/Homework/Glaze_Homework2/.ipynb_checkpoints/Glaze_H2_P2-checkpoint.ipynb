{
 "cells": [
  {
   "cell_type": "code",
   "execution_count": 1,
   "id": "e557c507",
   "metadata": {},
   "outputs": [],
   "source": [
    "import numpy as np\n",
    "from scipy import linalg\n",
    "#linalg only used for getting the inverse of the matrices"
   ]
  },
  {
   "cell_type": "code",
   "execution_count": 2,
   "id": "471f1c49",
   "metadata": {},
   "outputs": [],
   "source": [
    "def is_int(num,tol=0.01):\n",
    "    #checks if input number is an 'integer' within the specified tolerance\n",
    "    #useful for enforcing integer solutions of matrix equations\n",
    "    #can be less picky than the native float.isinteger() method,\n",
    "    #    which can have some trouble with roundoff-error integers\n",
    "    temp = round(num,0)\n",
    "    \n",
    "    if np.abs(temp-num) <= tol:\n",
    "        return True\n",
    "    else:\n",
    "        return False"
   ]
  },
  {
   "cell_type": "code",
   "execution_count": 3,
   "id": "9ccdea42",
   "metadata": {},
   "outputs": [],
   "source": [
    "#LU decomposition...\n",
    "\n",
    "def LU_step(A,step):\n",
    "    #this function is used for getting the various Ln's in the process of\n",
    "    #    LU decomposition. It takes a matrix argument and the \"step\" of the\n",
    "    #    process that is being performed.\n",
    "    size = np.shape(A)[0]\n",
    "    L = np.zeros((size,size))\n",
    "    for i in range(size):\n",
    "        for j in range(size):\n",
    "            if (i==step) and (j==step):\n",
    "                L[i][j] = 1\n",
    "            elif i==j:\n",
    "                L[i][j] = A[step][step]\n",
    "            elif (j==step) and (i>step):\n",
    "                L[i][j] = -1*A[i][step]\n",
    "                \n",
    "    L = (1/A[step][step])*L\n",
    "    return(L)\n",
    "\n",
    "\n",
    "def my_LU_decomp(A):\n",
    "    #starting with an input matrix 'A'\n",
    "    #for the purpose of this assignment, the program is designed to work with either a 3x3 or 8x8 matrix...\n",
    "    A = np.array(A)\n",
    "    size = np.shape(A)[0]\n",
    "    \n",
    "    #constructing L0:\n",
    "    L0 = LU_step(A,0)\n",
    "    B = np.dot(L0,A)\n",
    "    \n",
    "    #etc...\n",
    "    L1 = LU_step(B,1)\n",
    "    C = np.dot(L1,B)\n",
    "    \n",
    "    L2 = LU_step(C,2)\n",
    "    D = np.dot(L2,C)\n",
    "    \n",
    "    #we stop here if A is a 3x3...\n",
    "    if size==3:\n",
    "        U = L2 @ L1 @ L0 @ A\n",
    "        #using scipy linalg inverse method here...\n",
    "        L = linalg.inv(L0) @ linalg.inv(L1) @ linalg.inv(L2)\n",
    "        return(L,U)\n",
    "    \n",
    "    #we keep going if A is 8x8:\n",
    "    L3 = LU_step(D,3)\n",
    "    E = np.dot(L3,D)\n",
    "    \n",
    "    L4 = LU_step(E,4)\n",
    "    F = np.dot(L2,E)\n",
    "    \n",
    "    L5 = LU_step(F,5)\n",
    "    G = np.dot(L5,F)\n",
    "    \n",
    "    L6 = LU_step(G,6)\n",
    "    H = np.dot(L6,G)\n",
    "    \n",
    "    L7 = LU_step(H,7)\n",
    "    I = np.dot(L7,H)\n",
    "    \n",
    "    #and return the respective L and U matrices.\n",
    "    U = L7 @ L6 @ L5 @ L4 @ L3 @ L2 @ L1 @ L0 @ A\n",
    "    L = linalg.inv(L0) @ linalg.inv(L1) @ linalg.inv(L2) @ linalg.inv(L3) @ \\\n",
    "        linalg.inv(L4) @ linalg.inv(L5) @ linalg.inv(L6) @ linalg.inv(L7)\n",
    "    return(L,U)\n",
    "    "
   ]
  },
  {
   "cell_type": "code",
   "execution_count": 4,
   "id": "034d08b7",
   "metadata": {},
   "outputs": [],
   "source": [
    "# solving the matrices given an L and U matrix from the LU decomposition\n",
    "def my_LU_solve(L,U,v0,i):\n",
    "    size = np.shape(L)[0]\n",
    "    v = i*v0\n",
    "    y = np.zeros(np.shape(v))\n",
    "    x = np.zeros(np.shape(v))\n",
    "    #implements back/forward substitution from (6.36) and (6.35)\n",
    "    #first we solve Ly=v\n",
    "    for e in range(size):\n",
    "        y[e] = (v[e] - np.sum(L[e][:e]*y[:e]))/(L[e][e])\n",
    "    #now we solve for Ux = y\n",
    "    for e in range((size-1),-1,-1):\n",
    "        x[e] = (y[e] - np.sum(U[e][e:]*x[e:]))/(U[e][e])\n",
    "    \n",
    "    #complete solution vector (appends the last element)\n",
    "    x = np.append(x,i)\n",
    "    return(x)\n",
    "\n",
    "        \n",
    "        "
   ]
  },
  {
   "cell_type": "markdown",
   "id": "f8451656",
   "metadata": {},
   "source": [
    "# Part a: simple matrix"
   ]
  },
  {
   "cell_type": "code",
   "execution_count": 5,
   "id": "d1cbefcc",
   "metadata": {},
   "outputs": [],
   "source": [
    "#matrix for part A\n",
    "A = [[6,0,0], #eqn balancing Hydrogen\n",
    "    [0,2,-2], #eqn balancing Oxygen\n",
    "     [2,0,-1]] #eqn balancing Carbon\n",
    "\n",
    "v0 = np.array([2,1,0]) #vector in d\n",
    "            # will try various solutions with difference d's (implemented by v = d*v0) until integer a,b,c's are found"
   ]
  },
  {
   "cell_type": "code",
   "execution_count": 6,
   "id": "0bd3356f",
   "metadata": {},
   "outputs": [
    {
     "name": "stdout",
     "output_type": "stream",
     "text": [
      "Final Solution vector: \n",
      "a =  2.0\n",
      "b =  7.0\n",
      "c =  4.0\n",
      "d =  6.0\n"
     ]
    }
   ],
   "source": [
    "#now we find integer solutions for the matrix:\n",
    "l,u = my_LU_decomp(A)\n",
    "\n",
    "#initial guess of d = 1:\n",
    "a,b,c,d = my_LU_solve(l,u,v0,1)\n",
    "\n",
    "while ((not(is_int(a))) or (not(is_int(b))) or (not(is_int(c)))):\n",
    "    d += 1\n",
    "    a,b,c,d = my_LU_solve(l,u,v0,d)\n",
    "\n",
    "print(\"Final Solution vector: \")\n",
    "print(\"a = \",a)\n",
    "print(\"b = \",b)\n",
    "print(\"c = \",c)\n",
    "print(\"d = \",d)"
   ]
  },
  {
   "cell_type": "markdown",
   "id": "90795db4",
   "metadata": {},
   "source": [
    "# Part b, a more complicated system"
   ]
  },
  {
   "cell_type": "code",
   "execution_count": 7,
   "id": "65ae8fea",
   "metadata": {},
   "outputs": [],
   "source": [
    "B = [[4,2,0,0,0,0,0,-2],        #K\n",
    "    [1,0,0,-2,0,0,0,0],         #Fe\n",
    "    [6,0,1,-3,-3,0,0,-1],       #S\n",
    "    [6,0,0,0,0,-1,0,0],         #C\n",
    "    [0,0,2,0,0,0,-2,0],         #H\n",
    "    [6,0,0,0,0,0,0,0],          #N\n",
    "    [0,7,4,-12,-12,-2,-1,-4],   #O\n",
    "    [0,2,0,0,-2,0,0,0]]         #Cr\n",
    "\n",
    "v0 = np.array([1,0,0,0,0,1,3,0])"
   ]
  },
  {
   "cell_type": "code",
   "execution_count": 8,
   "id": "fee6ac5d",
   "metadata": {},
   "outputs": [
    {
     "name": "stdout",
     "output_type": "stream",
     "text": [
      "Final Solution vector: \n",
      "a =  11\n",
      "b =  3\n",
      "c =  -626\n",
      "d =  5\n",
      "e =  -187\n",
      "f =  71\n",
      "g =  -626\n",
      "h =  -9\n",
      "i =  72\n"
     ]
    }
   ],
   "source": [
    "#now we find integer solutions for the matrix:\n",
    "l,u = my_LU_decomp(B)\n",
    "\n",
    "#initial guess of i = 1:\n",
    "a,b,c,d,e,f,g,h,i = my_LU_solve(l,u,v0,1)\n",
    "\n",
    "while ((not(is_int(a))) or (not(is_int(b))) or (not(is_int(c)))\n",
    "      or (not(is_int(d))) or (not(is_int(e))) or (not(is_int(f)))\n",
    "      or (not(is_int(g))) or (not(is_int(h)))):\n",
    "    i += 1\n",
    "    a,b,c,d,e,f,g,h,i = my_LU_solve(l,u,v0,i)\n",
    "\n",
    "print(\"Final Solution vector: \")\n",
    "print(\"a = \",int(a))\n",
    "print(\"b = \",int(b))\n",
    "print(\"c = \",int(c))\n",
    "print(\"d = \",int(d))\n",
    "print(\"e = \",int(e))\n",
    "print(\"f = \",int(f))\n",
    "print(\"g = \",int(g))\n",
    "print(\"h = \",int(h))\n",
    "print(\"i = \",int(i))"
   ]
  }
 ],
 "metadata": {
  "kernelspec": {
   "display_name": "Python 3 (ipykernel)",
   "language": "python",
   "name": "python3"
  },
  "language_info": {
   "codemirror_mode": {
    "name": "ipython",
    "version": 3
   },
   "file_extension": ".py",
   "mimetype": "text/x-python",
   "name": "python",
   "nbconvert_exporter": "python",
   "pygments_lexer": "ipython3",
   "version": "3.9.16"
  }
 },
 "nbformat": 4,
 "nbformat_minor": 5
}
