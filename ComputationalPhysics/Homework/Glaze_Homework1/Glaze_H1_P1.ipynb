{
 "cells": [
  {
   "cell_type": "code",
   "execution_count": 1,
   "id": "5d5b67e6",
   "metadata": {},
   "outputs": [],
   "source": [
    "import numpy as np\n",
    "from matplotlib import pyplot as plt"
   ]
  },
  {
   "cell_type": "markdown",
   "id": "c3037554",
   "metadata": {},
   "source": [
    "# Problem 1: Using the Semi-Empirical Mass Formula"
   ]
  },
  {
   "cell_type": "code",
   "execution_count": 2,
   "id": "28edaaa6",
   "metadata": {},
   "outputs": [],
   "source": [
    "def isEven(a):\n",
    "    #simple function to check for even or odd A or Z\n",
    "    if a%2==0:\n",
    "        return True\n",
    "    else:\n",
    "        return False\n",
    "\n",
    "def Binding_Energy(A,Z):\n",
    "    if (A<0) or (Z<0) or (type(A)==str) or (type(Z)==str):\n",
    "        print(\"A and Z should be positive numbers.\")\n",
    "        return(0)\n",
    "    a1 = 15.8 #values of a1, a2, etc. taken from homework prompt\n",
    "    a2 = 18.3\n",
    "    a3 = 0.714\n",
    "    a4 = 23.2\n",
    "    if not isEven(A):\n",
    "        a5=0\n",
    "    elif isEven(Z):\n",
    "        a5=12.0\n",
    "    else:\n",
    "        a5=-12.0\n",
    "    return(a1*A-a2*A**(2/3)-a3*(Z**2)/(A**(1/3))-a4*((A-2*Z)**2)/A-a5/(A**(1/2)))"
   ]
  },
  {
   "cell_type": "markdown",
   "id": "88907226",
   "metadata": {},
   "source": [
    "## Part a) Finding the Binding Energy for A = 58 and Z = 28"
   ]
  },
  {
   "cell_type": "code",
   "execution_count": 3,
   "id": "ee6b8859",
   "metadata": {},
   "outputs": [
    {
     "name": "stdout",
     "output_type": "stream",
     "text": [
      "494.4106662338041  MeV\n"
     ]
    }
   ],
   "source": [
    "print(Binding_Energy(58,28),\" MeV\")"
   ]
  },
  {
   "cell_type": "markdown",
   "id": "4497f336",
   "metadata": {},
   "source": [
    "## Part b) Printing B/A"
   ]
  },
  {
   "cell_type": "code",
   "execution_count": 4,
   "id": "93f76492",
   "metadata": {},
   "outputs": [],
   "source": [
    "def Binding_Energy_Per_Nucleon(A,Z):\n",
    "    #we define a new function that calls the original function.\n",
    "    #this new function returns the binding energy divided by the mass number\n",
    "    return(round((Binding_Energy(A,Z))/A,4))"
   ]
  },
  {
   "cell_type": "code",
   "execution_count": 5,
   "id": "53963d9e",
   "metadata": {},
   "outputs": [
    {
     "name": "stdout",
     "output_type": "stream",
     "text": [
      "8.5243  MeV/Nucleon\n"
     ]
    }
   ],
   "source": [
    "print(Binding_Energy_Per_Nucleon(58,28),\" MeV/Nucleon\")"
   ]
  },
  {
   "cell_type": "markdown",
   "id": "f30f5d61",
   "metadata": {},
   "source": [
    "## Part c) Most Stable Mass number for a given Atomic number"
   ]
  },
  {
   "cell_type": "code",
   "execution_count": 6,
   "id": "2b6ce7a1",
   "metadata": {},
   "outputs": [],
   "source": [
    "def Most_Stable(Z):\n",
    "    highest_energy = -np.inf\n",
    "    #we iterate through A=Z to A=3Z, as per the instructions\n",
    "    for A in range(Z,(3*Z+1)):\n",
    "        #we call our Binding energy per nucleon from the previous function\n",
    "        current_energy = Binding_Energy_Per_Nucleon(A,Z)\n",
    "        \n",
    "        #and compare to the current highest energy\n",
    "        if current_energy>highest_energy:\n",
    "            #if true, we store the current energy and mass number\n",
    "            highest_energy = current_energy\n",
    "            most_stable_A = A\n",
    "    return(most_stable_A,Binding_Energy_Per_Nucleon(most_stable_A,Z))\n",
    "\n",
    "def Part_c_Presentation(Z=21):\n",
    "    #this is just to answer the problem prompt...\n",
    "    a, b_a = Most_Stable(Z)\n",
    "    print(\"For a given atomic number Z=\",str(Z),\", the most stable mass number is A=\",str(a),\" with a binding energy of B/A=\",str(b_a),\" MeV per nucleon.\")"
   ]
  },
  {
   "cell_type": "code",
   "execution_count": 7,
   "id": "22a04ca5",
   "metadata": {},
   "outputs": [
    {
     "name": "stdout",
     "output_type": "stream",
     "text": [
      "For a given atomic number Z= 21 , the most stable mass number is A= 46  with a binding energy of B/A= 8.6452  MeV per nucleon.\n"
     ]
    }
   ],
   "source": [
    "Part_c_Presentation()"
   ]
  },
  {
   "cell_type": "markdown",
   "id": "a9b5e255",
   "metadata": {},
   "source": [
    "## Part d) Maximum Binding Energy for Z = 1 to Z = 100"
   ]
  },
  {
   "cell_type": "code",
   "execution_count": 8,
   "id": "f64ded42",
   "metadata": {},
   "outputs": [],
   "source": [
    "def Max_Binding_Energy(zmin=1,zmax=100):\n",
    "    #initializing lists for storing A's, Z's, and B/A's\n",
    "    z_list = []\n",
    "    a_list = []\n",
    "    b_a_list = []\n",
    "    #iterates through the min Z to the max Z\n",
    "    for Z in range(zmin,(zmax+1)):\n",
    "        #building the lists, calling the function from part C\n",
    "        z_list.append(Z)\n",
    "        a_list.append(Most_Stable(Z)[0])\n",
    "        b_a_list.append(Most_Stable(Z)[1])\n",
    "    return(z_list,b_a_list)\n",
    "\n",
    "def Part_d_Presentation(zmin=1,zmax=100):\n",
    "    Zs, BAs = Max_Binding_Energy(zmin=zmin,zmax=zmax)\n",
    "    print(\"Z:          Binding Energy Per Nucleon:\")\n",
    "    print()\n",
    "    for i in range(len(Zs)):\n",
    "        print(Zs[i],\"        \",BAs[i])"
   ]
  },
  {
   "cell_type": "code",
   "execution_count": 9,
   "id": "f354beed",
   "metadata": {},
   "outputs": [
    {
     "name": "stdout",
     "output_type": "stream",
     "text": [
      "Z with highest binding Energy per Nucleon:\n"
     ]
    },
    {
     "data": {
      "text/plain": [
       "27"
      ]
     },
     "execution_count": 9,
     "metadata": {},
     "output_type": "execute_result"
    }
   ],
   "source": [
    "print(\"Z with highest binding Energy per Nucleon:\")\n",
    "((Max_Binding_Energy()[1]).index(max(Max_Binding_Energy()[1])))+1"
   ]
  },
  {
   "cell_type": "code",
   "execution_count": 10,
   "id": "2b59fe91",
   "metadata": {
    "scrolled": true
   },
   "outputs": [
    {
     "name": "stdout",
     "output_type": "stream",
     "text": [
      "Z:          Binding Energy Per Nucleon:\n",
      "\n",
      "1          5.2346\n",
      "2          3.8361\n",
      "3          5.9562\n",
      "4          6.1056\n",
      "5          6.8568\n",
      "6          7.039\n",
      "7          7.4949\n",
      "8          7.5573\n",
      "9          7.8951\n",
      "10          7.882\n",
      "11          8.1487\n",
      "12          8.1442\n",
      "13          8.3169\n",
      "14          8.3202\n",
      "15          8.4321\n",
      "16          8.4385\n",
      "17          8.5358\n",
      "18          8.5173\n",
      "19          8.6035\n",
      "20          8.5843\n",
      "21          8.6452\n",
      "22          8.6302\n",
      "23          8.6742\n",
      "24          8.6559\n",
      "25          8.6962\n",
      "26          8.6713\n",
      "27          8.7034\n",
      "28          8.6815\n",
      "29          8.7019\n",
      "30          8.6797\n",
      "31          8.6987\n",
      "32          8.6722\n",
      "33          8.6861\n",
      "34          8.6619\n",
      "35          8.6699\n",
      "36          8.6438\n",
      "37          8.6512\n",
      "38          8.6247\n",
      "39          8.6262\n",
      "40          8.6015\n",
      "41          8.6021\n",
      "42          8.5745\n",
      "43          8.5733\n",
      "44          8.5473\n",
      "45          8.5432\n",
      "46          8.5154\n",
      "47          8.5114\n",
      "48          8.4847\n",
      "49          8.4774\n",
      "50          8.4503\n",
      "51          8.4431\n",
      "52          8.4162\n",
      "53          8.4065\n",
      "54          8.3797\n",
      "55          8.3701\n",
      "56          8.3432\n",
      "57          8.3317\n",
      "58          8.3049\n",
      "59          8.2936\n",
      "60          8.2669\n",
      "61          8.2541\n",
      "62          8.2271\n",
      "63          8.2145\n",
      "64          8.1881\n",
      "65          8.1742\n",
      "66          8.1474\n",
      "67          8.1333\n",
      "68          8.1072\n",
      "69          8.0926\n",
      "70          8.0662\n",
      "71          8.0507\n",
      "72          8.0249\n",
      "73          8.0096\n",
      "74          7.9836\n",
      "75          7.9677\n",
      "76          7.9416\n",
      "77          7.9256\n",
      "78          7.9\n",
      "79          7.8837\n",
      "80          7.8581\n",
      "81          7.8413\n",
      "82          7.8156\n",
      "83          7.799\n",
      "84          7.7738\n",
      "85          7.7568\n",
      "86          7.7316\n",
      "87          7.7142\n",
      "88          7.6891\n",
      "89          7.6719\n",
      "90          7.6471\n",
      "91          7.6296\n",
      "92          7.6049\n",
      "93          7.5872\n",
      "94          7.5625\n",
      "95          7.5446\n",
      "96          7.5203\n",
      "97          7.5025\n",
      "98          7.4782\n",
      "99          7.4603\n",
      "100          7.4361\n"
     ]
    }
   ],
   "source": [
    "Part_d_Presentation()"
   ]
  },
  {
   "cell_type": "markdown",
   "id": "2a4fc07c",
   "metadata": {},
   "source": [
    "## Part e) Plotting the results"
   ]
  },
  {
   "cell_type": "code",
   "execution_count": 11,
   "id": "76b9a67f",
   "metadata": {},
   "outputs": [
    {
     "data": {
      "image/png": "[encoded data removed]",
      "text/plain": [
       "<Figure size 800x600 with 1 Axes>"
      ]
     },
     "metadata": {},
     "output_type": "display_data"
    }
   ],
   "source": [
    "#get x and y data for the plot\n",
    "prob1x, prob1y = Max_Binding_Energy()\n",
    "\n",
    "plt.figure(figsize=(8,6))\n",
    "plt.scatter(prob1x,prob1y,s=5, c=prob1x, cmap=\"cividis_r\")\n",
    "plt.xlim(0,101)\n",
    "plt.ylim(3,10)\n",
    "plt.text(27,9,\"Max @ Z=27\",horizontalalignment=\"center\",fontsize=14)\n",
    "plt.vlines(27,0,8.7,color=\"grey\",linestyle=\"dashed\")\n",
    "plt.xlabel(\"Atomic number, Z\",fontsize=14)\n",
    "plt.ylabel(\"Binding Energy per Nucleon, B/A (MeV/Nucleon)\",fontsize=12)\n",
    "plt.xticks(size=12)\n",
    "plt.yticks(size=12)\n",
    "plt.title(\"Largest Binding Energy per Nucleon vs. Atomic Number\",fontsize=16);"
   ]
  },
  {
   "cell_type": "code",
   "execution_count": null,
   "id": "bdf8a8c3",
   "metadata": {},
   "outputs": [],
   "source": []
  }
 ],
 "metadata": {
  "kernelspec": {
   "display_name": "Python 3 (ipykernel)",
   "language": "python",
   "name": "python3"
  },
  "language_info": {
   "codemirror_mode": {
    "name": "ipython",
    "version": 3
   },
   "file_extension": ".py",
   "mimetype": "text/x-python",
   "name": "python",
   "nbconvert_exporter": "python",
   "pygments_lexer": "ipython3",
   "version": "3.9.16"
  }
 },
 "nbformat": 4,
 "nbformat_minor": 5
}
