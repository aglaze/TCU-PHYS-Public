{
 "cells": [
  {
   "cell_type": "code",
   "execution_count": 1,
   "id": "2229c7ef",
   "metadata": {},
   "outputs": [],
   "source": [
    "import numpy as np\n",
    "from matplotlib import pyplot as plt\n",
    "from matplotlib.animation import ArtistAnimation as animate\n",
    "from PIL import Image\n",
    "import glob"
   ]
  },
  {
   "cell_type": "markdown",
   "id": "d7f1facd",
   "metadata": {},
   "source": [
    "# Problem 3:"
   ]
  },
  {
   "cell_type": "code",
   "execution_count": 2,
   "id": "a276fbf2",
   "metadata": {},
   "outputs": [],
   "source": [
    "class planet(object):\n",
    "    def __init__(self,size,radius,period,angle,color):\n",
    "        #initialize planet object with properties of size, orbital radius, orbital period, and position\n",
    "        #    position of the objects is parameterized in polar coords by the orbital radius (const) and angle.\n",
    "        self.size = size\n",
    "        self.radius = radius\n",
    "        self.period = period\n",
    "        self.angle = angle\n",
    "        self.color = color\n",
    "    \n",
    "    def propagate(self,timespeed):\n",
    "        #only factor here is how fast time will be scaled\n",
    "        #planets are propagated according to their orbital period by adjusting their angle.\n",
    "        self.angle = self.angle + ((2*np.pi)/self.period)*timespeed\n"
   ]
  },
  {
   "cell_type": "code",
   "execution_count": 3,
   "id": "e44735d1",
   "metadata": {},
   "outputs": [],
   "source": [
    "def plot_planet(planet):\n",
    "    #we get x and y coordinates for plotting from the planet's radius and angle properties\n",
    "    x = planet.radius * np.cos(planet.angle)\n",
    "    y = planet.radius * np.sin(planet.angle)\n",
    "    \n",
    "    plt.scatter(x,y,c=planet.color,s=planet.size)\n",
    "#     plt.xlim(-planet.radius-1,planet.radius+1)\n",
    "#     plt.ylim(-planet.radius-1,planet.radius+1)\n",
    "    \n",
    "\n",
    "def run_simulation(c1,c2,dur = 120,numframes=300):\n",
    "    #constants c1 and c2 are used as described in the problem prompt, with c1 being a scaling factor\n",
    "    #    for the size of planets, and c2 being a scaling factor for the time progression.\n",
    "    #    'dur' is the duration per frame for the animation.\n",
    "    \n",
    "    #initializing the celestial objects for the simulation...\n",
    "    #    data from page 119 of Computational Physics\n",
    "    #    planets are initialized with planet(radius,orbital radius, orbital period,angle,color)\n",
    "    #    again, with all data coming from p 119 of Computational Physics.\n",
    "    Sun = planet(695500*c1,0,1,0,'gold')\n",
    "    Mercury = planet(2440*c1,57.9*1e6,88.0,0,'grey')\n",
    "    Venus = planet(6052*c1,108.2*1e6,224.7,0,'orange')\n",
    "    Earth = planet(6371*c1,149.6*1e6,365.3,0,'b')\n",
    "    Mars = planet(3386*c1,227.9*1e6,687.0,0,'r')\n",
    "    Jupiter = planet(69173*c1,778.5*1e6,4331.6,0,'bisque')\n",
    "    Saturn = planet(57316*c1,1433.4*1e6,10759.2,0,'y')\n",
    "    \n",
    "    planets_list = [] #initializing a list to contain all the planets\n",
    "    planets_list.append(Sun)\n",
    "    planets_list.append(Mercury)\n",
    "    planets_list.append(Venus)\n",
    "    planets_list.append(Earth)\n",
    "    planets_list.append(Mars)\n",
    "    planets_list.append(Jupiter)\n",
    "    planets_list.append(Saturn)\n",
    "    \n",
    "    fig = plt.figure()\n",
    "    plt.figure(figsize=(10,10))\n",
    "    \n",
    "    #this is the time range. This effectively sets the number of frames that are created for the GIF.\n",
    "    #    this value also controls the final time before the GIF is reset.\n",
    "    for t in range(0,numframes):\n",
    "        #plots all planets in planets_list using the scatter plot method\n",
    "        for i in planets_list:\n",
    "            plot_planet(i)\n",
    "            plt.xlim(-1.1*Saturn.radius,1.1*Saturn.radius)\n",
    "            plt.ylim(-1.1*Saturn.radius,1.1*Saturn.radius)\n",
    "            #propagates the planet after it is plotted\n",
    "            i.propagate(c2)\n",
    "        \n",
    "        #saves the time step as a png\n",
    "        filename = str(\"./Images/frame\"+str(t).zfill(4)+\".png\")\n",
    "        #plt.style.use('dark_background')\n",
    "        #The above line changes the plot to a black background but I prefer the look of the blank white better...\n",
    "        plt.axis('off')\n",
    "        plt.savefig(filename)\n",
    "        plt.clf()\n",
    "        \n",
    "    #use the saved figures to create the frames for the animation\n",
    "    frames = []\n",
    "    imgs = glob.glob(\"./Images/*.png\")\n",
    "    for i in imgs:\n",
    "        new_frame = Image.open(i)\n",
    "        frames.append(new_frame)\n",
    "    #creates an animated GIF using the created frames\n",
    "    #    the speed at which the planets propagate in the GIF is controlled by several variables.\n",
    "    #        first, the 'duration' property in the call below controls how long each frame lasts.\n",
    "    #        second, the 'c1' variable controls the timescale at which the planets are propagated.\n",
    "    #        After some experimentation, I have found that 300 frames at c1 = 15 and duration = 120\n",
    "    #        looks pretty good (to me), but you may find that other parameters are more pleasing.\n",
    "    frames[0].save('SolarSystemAnimation.gif', format='GIF',\n",
    "                   append_images=frames[1:],\n",
    "                   save_all=True,\n",
    "                   duration=dur, loop=0)"
   ]
  },
  {
   "cell_type": "code",
   "execution_count": 4,
   "id": "88430e1b",
   "metadata": {},
   "outputs": [
    {
     "data": {
      "text/plain": [
       "<Figure size 640x480 with 0 Axes>"
      ]
     },
     "metadata": {},
     "output_type": "display_data"
    },
    {
     "data": {
      "text/plain": [
       "<Figure size 1000x1000 with 0 Axes>"
      ]
     },
     "metadata": {},
     "output_type": "display_data"
    }
   ],
   "source": [
    "#this runs the simulation and create the gif.\n",
    "#    feel free to tweak the arguments at your leisure.\n",
    "#    the 'numframes' argument has the largest impact on run time.\n",
    "#    c2 and 'dur' cooperatively effect the speed and smoothness of the animation.\n",
    "run_simulation(0.0004,15,dur=120,numframes=300)"
   ]
  },
  {
   "cell_type": "code",
   "execution_count": null,
   "id": "fc55192a",
   "metadata": {},
   "outputs": [],
   "source": []
  }
 ],
 "metadata": {
  "kernelspec": {
   "display_name": "Python 3 (ipykernel)",
   "language": "python",
   "name": "python3"
  },
  "language_info": {
   "codemirror_mode": {
    "name": "ipython",
    "version": 3
   },
   "file_extension": ".py",
   "mimetype": "text/x-python",
   "name": "python",
   "nbconvert_exporter": "python",
   "pygments_lexer": "ipython3",
   "version": "3.9.16"
  }
 },
 "nbformat": 4,
 "nbformat_minor": 5
}
