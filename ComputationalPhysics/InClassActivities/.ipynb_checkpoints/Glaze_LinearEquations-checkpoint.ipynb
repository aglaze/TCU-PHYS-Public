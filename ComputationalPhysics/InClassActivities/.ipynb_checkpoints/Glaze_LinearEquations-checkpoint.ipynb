{
 "cells": [
  {
   "cell_type": "code",
   "execution_count": 1,
   "id": "1195933a",
   "metadata": {},
   "outputs": [],
   "source": [
    "import numpy as np\n",
    "from scipy import linalg"
   ]
  },
  {
   "cell_type": "code",
   "execution_count": 2,
   "id": "c7839182",
   "metadata": {},
   "outputs": [
    {
     "name": "stdout",
     "output_type": "stream",
     "text": [
      "[[12.]\n",
      " [16.]]\n"
     ]
    }
   ],
   "source": [
    "#Exercise 1: Using linalg.solve() to solve a 2d system of equations\n",
    "\n",
    "A = [[3,-1],[-1,1]]\n",
    "b = [[20],[4]]\n",
    "\n",
    "print(linalg.solve(A,b))"
   ]
  },
  {
   "cell_type": "code",
   "execution_count": 3,
   "id": "12bb5e59",
   "metadata": {},
   "outputs": [
    {
     "name": "stdout",
     "output_type": "stream",
     "text": [
      "[12. 16.]\n"
     ]
    }
   ],
   "source": [
    "b=[20,4]\n",
    "\n",
    "print(linalg.solve(A,b))\n",
    "#same results using a ROW b vector as a COLUMN b vector"
   ]
  },
  {
   "cell_type": "code",
   "execution_count": 4,
   "id": "5522e062",
   "metadata": {},
   "outputs": [
    {
     "name": "stdout",
     "output_type": "stream",
     "text": [
      "[12. 16.]\n"
     ]
    }
   ],
   "source": [
    "A= np.array(A)\n",
    "b = np.array(b)\n",
    "\n",
    "print(linalg.solve(A,b))\n",
    "#gives same results using numpy arrays vs. regular arrays"
   ]
  },
  {
   "cell_type": "code",
   "execution_count": 5,
   "id": "36a1e0ad",
   "metadata": {},
   "outputs": [
    {
     "name": "stdout",
     "output_type": "stream",
     "text": [
      "[[0.5 0.5]\n",
      " [0.5 1.5]]\n"
     ]
    }
   ],
   "source": [
    "#Step 3: finding the inverse using only the solver\n",
    "\n",
    "I = np.array([[1,0],[0,1]])\n",
    "\n",
    "A_inv = linalg.solve(A,I)\n",
    "print(A_inv)"
   ]
  },
  {
   "cell_type": "code",
   "execution_count": 6,
   "id": "74d2dc7d",
   "metadata": {},
   "outputs": [
    {
     "data": {
      "text/plain": [
       "array([[ 1.00000000e+00,  0.00000000e+00],\n",
       "       [-5.55111512e-17,  1.00000000e+00]])"
      ]
     },
     "execution_count": 6,
     "metadata": {},
     "output_type": "execute_result"
    }
   ],
   "source": [
    "np.dot(A,A_inv)"
   ]
  },
  {
   "cell_type": "code",
   "execution_count": 7,
   "id": "4e1fb793",
   "metadata": {},
   "outputs": [
    {
     "name": "stdout",
     "output_type": "stream",
     "text": [
      "0.49999999999999994\n"
     ]
    }
   ],
   "source": [
    "#Step 4: finding the determinant using linalg.det()\n",
    "\n",
    "A_inv_det = linalg.det(A_inv)\n",
    "print(A_inv_det)"
   ]
  },
  {
   "cell_type": "code",
   "execution_count": 8,
   "id": "701967c1",
   "metadata": {},
   "outputs": [],
   "source": [
    "#Exercise 2:\n",
    "\n",
    "A = np.array([[2,3,5,7],[11,13,17,19],[23,29,31,37],[41,43,47,53]])\n",
    "\n",
    "v1 = np.array([1,1,1,1])\n",
    "v2 = np.array([1,2,3,4])"
   ]
  },
  {
   "cell_type": "code",
   "execution_count": 9,
   "id": "91b57db4",
   "metadata": {},
   "outputs": [],
   "source": [
    "LU_out = linalg.lu_factor(A)\n",
    "\n",
    "sol1_lu = np.round(linalg.lu_solve(LU_out,v1),4)\n",
    "sol2_lu = np.round(linalg.lu_solve(LU_out,v2),4)\n",
    "\n",
    "sol1_solve = np.round(linalg.solve(A,v1),4)\n",
    "sol2_solve = np.round(linalg.solve(A,v2),4)"
   ]
  },
  {
   "cell_type": "code",
   "execution_count": 10,
   "id": "110d7c26",
   "metadata": {},
   "outputs": [
    {
     "name": "stdout",
     "output_type": "stream",
     "text": [
      "Solutions for v = [1,1,1,1]: \n",
      "Using LU Decompositions:   [ 0.0364 -0.3273 -0.0955  0.3409]\n",
      "Using linalg.solve():      [ 0.0364 -0.3273 -0.0955  0.3409]\n"
     ]
    }
   ],
   "source": [
    "print(\"Solutions for v = [1,1,1,1]: \")\n",
    "print(\"Using LU Decompositions:  \",sol1_lu)\n",
    "print(\"Using linalg.solve():     \",sol1_solve)"
   ]
  },
  {
   "cell_type": "code",
   "execution_count": 11,
   "id": "6c27f47b",
   "metadata": {},
   "outputs": [
    {
     "name": "stdout",
     "output_type": "stream",
     "text": [
      "Solutions for v = [1,2,3,4]: \n",
      "Using LU Decompositions:   [-0.0364 -0.1727  0.0955  0.1591]\n",
      "Using linalg.solve():      [-0.0364 -0.1727  0.0955  0.1591]\n"
     ]
    }
   ],
   "source": [
    "print(\"Solutions for v = [1,2,3,4]: \")\n",
    "print(\"Using LU Decompositions:  \",sol2_lu)\n",
    "print(\"Using linalg.solve():     \",sol2_solve)"
   ]
  },
  {
   "cell_type": "code",
   "execution_count": 12,
   "id": "175ca449",
   "metadata": {},
   "outputs": [],
   "source": [
    "#Exercise 3: \"Challenge from Heroes\"\n",
    "\n",
    "A = [[1,2,3,4],\n",
    "     [2,-1,1,-1],\n",
    "     [3,1,4,3],\n",
    "     [-2,6,4,10]]\n",
    "v = [10,1,11,18]"
   ]
  },
  {
   "cell_type": "code",
   "execution_count": 13,
   "id": "e98b9c53",
   "metadata": {},
   "outputs": [
    {
     "name": "stderr",
     "output_type": "stream",
     "text": [
      "C:\\Users\\User\\AppData\\Local\\Temp\\ipykernel_41664\\3722899383.py:1: LinAlgWarning: Ill-conditioned matrix (rcond=5.78241e-18): result may not be accurate.\n",
      "  linalg.solve(A,v)\n"
     ]
    },
    {
     "data": {
      "text/plain": [
       "array([-1.55555556,  0.        ,  4.        , -0.11111111])"
      ]
     },
     "execution_count": 13,
     "metadata": {},
     "output_type": "execute_result"
    }
   ],
   "source": [
    "linalg.solve(A,v)"
   ]
  },
  {
   "cell_type": "code",
   "execution_count": 14,
   "id": "f327e4dc",
   "metadata": {},
   "outputs": [
    {
     "data": {
      "text/plain": [
       "array([-1.55555556,  0.        ,  4.        , -0.11111111])"
      ]
     },
     "execution_count": 14,
     "metadata": {},
     "output_type": "execute_result"
    }
   ],
   "source": [
    "linalg.lu_solve(linalg.lu_factor(A),v)"
   ]
  },
  {
   "cell_type": "markdown",
   "id": "5b067db9",
   "metadata": {},
   "source": [
    " Row reducing this augmented matrix, we can reduce the problem to a system of \n",
    "    2 equations with 2 (effective) unknowns and 2 free parameters:\n",
    "\n",
    "    x + w + 2/5 z = 12/5\n",
    "    y + w + 9/5 z = 19/5\n",
    "\n",
    " Then the matrix representation would look like this:\n",
    "\n",
    "$\\begin{pmatrix}\n",
    "  1 & 0 & 1 & 2/5 \\\\ \n",
    "  0 & 1 & 1 & 9/5 \\\\\n",
    "  0 & 0 & 0 & 0 \\\\\n",
    "  0 & 0 & 0 & 0\n",
    "\\end{pmatrix}\n",
    "\\begin{pmatrix}\n",
    " x \\\\\n",
    " y \\\\\n",
    " w \\\\\n",
    " z\n",
    " \\end{pmatrix}\n",
    "= \\begin{pmatrix}\n",
    " 12/5 \\\\\n",
    " 19/5 \\\\\n",
    " 0 \\\\\n",
    " 0\n",
    " \\end{pmatrix}$\n",
    " \n",
    " with w and z obviously being the free parameters. If we choose $ w = 0$ and $z = 0$, we can find the solutions easily (since the matrix has already been row-reduced):\n",
    " \n",
    "$\\begin{pmatrix}\n",
    " 1 & 0 \\\\\n",
    " 0 & 1 \n",
    "\\end{pmatrix}\n",
    "\\begin{pmatrix}\n",
    " x \\\\\n",
    " y\n",
    "\\end{pmatrix} = \n",
    "\\begin{pmatrix}\n",
    " 12/5 \\\\\n",
    " 19/5\n",
    "\\end{pmatrix}$\n",
    " \n",
    " So we get $ x = 12/5$ and $ y = 19/5$.\n",
    " "
   ]
  },
  {
   "cell_type": "code",
   "execution_count": null,
   "id": "5bfee4f3",
   "metadata": {},
   "outputs": [],
   "source": []
  }
 ],
 "metadata": {
  "kernelspec": {
   "display_name": "Python 3 (ipykernel)",
   "language": "python",
   "name": "python3"
  },
  "language_info": {
   "codemirror_mode": {
    "name": "ipython",
    "version": 3
   },
   "file_extension": ".py",
   "mimetype": "text/x-python",
   "name": "python",
   "nbconvert_exporter": "python",
   "pygments_lexer": "ipython3",
   "version": "3.9.16"
  }
 },
 "nbformat": 4,
 "nbformat_minor": 5
}
