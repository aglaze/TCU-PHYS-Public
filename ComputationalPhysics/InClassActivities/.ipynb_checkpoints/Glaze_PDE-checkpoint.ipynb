{
 "cells": [
  {
   "cell_type": "code",
   "execution_count": null,
   "id": "8089fee6",
   "metadata": {},
   "outputs": [],
   "source": []
  },
  {
   "cell_type": "code",
   "execution_count": null,
   "id": "c58fd954",
   "metadata": {},
   "outputs": [],
   "source": [
    "def relaxation(f,i,p):\n",
    "    #arguments of f, the function, i, the initial guess, and p, the precision\n",
    "    x=i\n",
    "    num_iters = 0\n",
    "    while(np.abs(f(x)-x)>p):\n",
    "        x = f(x)\n",
    "        num_iters += 1\n",
    "    return(x,num_iters)"
   ]
  }
 ],
 "metadata": {
  "kernelspec": {
   "display_name": "Python 3 (ipykernel)",
   "language": "python",
   "name": "python3"
  },
  "language_info": {
   "codemirror_mode": {
    "name": "ipython",
    "version": 3
   },
   "file_extension": ".py",
   "mimetype": "text/x-python",
   "name": "python",
   "nbconvert_exporter": "python",
   "pygments_lexer": "ipython3",
   "version": "3.9.16"
  }
 },
 "nbformat": 4,
 "nbformat_minor": 5
}
