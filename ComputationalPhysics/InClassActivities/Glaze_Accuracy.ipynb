{
 "cells": [
  {
   "cell_type": "code",
   "execution_count": 1,
   "id": "e583ec87",
   "metadata": {},
   "outputs": [],
   "source": [
    "import time\n",
    "import numpy as np"
   ]
  },
  {
   "cell_type": "code",
   "execution_count": 2,
   "id": "b10d4292",
   "metadata": {},
   "outputs": [],
   "source": [
    "#Exercise 4.1: Accuracy with factorials\n",
    "def factorial_int(n):\n",
    "    if n==1:\n",
    "        return(1)\n",
    "    else:\n",
    "        return(int(n)*factorial_int(int(int(n)-1)))\n",
    "\n",
    "def factorial_flt(n):\n",
    "    if n==1:\n",
    "        return(1)\n",
    "    else:\n",
    "        return(float(n)*factorial_flt(float(n-1)))"
   ]
  },
  {
   "cell_type": "code",
   "execution_count": 3,
   "id": "42af7cb5",
   "metadata": {},
   "outputs": [
    {
     "name": "stdout",
     "output_type": "stream",
     "text": [
      "Factorial of 200 stored as integers: \n",
      "\n",
      "788657867364790503552363213932185062295135977687173263294742533244359449963403342920304284011984623904177212138919638830257642790242637105061926624952829931113462857270763317237396988943922445621451664240254033291864131227428294853277524242407573903240321257405579568660226031904170324062351700858796178922222789623703897374720000000000000000000000000000000000000000000000000\n",
      "\n",
      "Factorial of 200 stored as floats: \n",
      "\n",
      "inf\n"
     ]
    }
   ],
   "source": [
    "print(\"Factorial of 200 stored as integers: \")\n",
    "print()\n",
    "print(factorial_int(200))\n",
    "print()\n",
    "print(\"Factorial of 200 stored as floats: \")\n",
    "print()\n",
    "print(factorial_flt(200))"
   ]
  },
  {
   "cell_type": "markdown",
   "id": "dbb3dd56",
   "metadata": {},
   "source": [
    "## Markdown Comment for Exercise 4.1:\n",
    "When calculating the factorial of a number, the results are different in python depeding if the number is stored as a float or an integer. Since Python's integers can have an arbitrarily large accuracy, we get an actual result for calculating the factorial of 200. However, when we use floats, the 16-digit accuracy is exceeded quite fast and a result of \"inf\" (infinity) is returned."
   ]
  },
  {
   "cell_type": "code",
   "execution_count": 4,
   "id": "2049a1a5",
   "metadata": {},
   "outputs": [
    {
     "name": "stdout",
     "output_type": "stream",
     "text": [
      "Error Constant:\n",
      "\n",
      "1.1102230246251565e-16\n"
     ]
    }
   ],
   "source": [
    "#The other exercise...\n",
    "\n",
    "C=1.0\n",
    "while 1.0 + C > 1.0:\n",
    "    C=C/2\n",
    "print(\"Error Constant:\")\n",
    "print()\n",
    "print(C)"
   ]
  },
  {
   "cell_type": "code",
   "execution_count": 5,
   "id": "60e2c03f",
   "metadata": {},
   "outputs": [],
   "source": [
    "#timing Python...\n",
    "start = time.time()\n",
    "\n",
    "for i in range(1000000000):\n",
    "    pass\n",
    "\n",
    "end = time.time()\n",
    "runtime_empty = end-start"
   ]
  },
  {
   "cell_type": "code",
   "execution_count": 6,
   "id": "d010b520",
   "metadata": {},
   "outputs": [
    {
     "name": "stdout",
     "output_type": "stream",
     "text": [
      "Run time:  27.794747591018677  seconds\n"
     ]
    }
   ],
   "source": [
    "print(\"Run time: \",runtime_empty, \" seconds\")"
   ]
  },
  {
   "cell_type": "code",
   "execution_count": 12,
   "id": "5c6623ee",
   "metadata": {},
   "outputs": [],
   "source": [
    "#now we time the process for filling up an array of 1 billion items with the value '1':\n",
    "\n",
    "start = time.time()\n",
    "\n",
    "np.ones(1000000000)\n",
    "\n",
    "end = time.time()\n",
    "runtime_ones = end-start"
   ]
  },
  {
   "cell_type": "code",
   "execution_count": 13,
   "id": "606c2f65",
   "metadata": {},
   "outputs": [
    {
     "name": "stdout",
     "output_type": "stream",
     "text": [
      "Run time:  1.7157824039459229  seconds\n"
     ]
    }
   ],
   "source": [
    "print(\"Run time: \",runtime_ones, \" seconds\")"
   ]
  },
  {
   "cell_type": "markdown",
   "id": "b016de91",
   "metadata": {},
   "source": [
    "## Timing Comment:\n",
    "\n",
    "Timing the Python process, we find that Python takes significantly more time to perform 1 billion operations (passing the for loop) than to create a 1 billion-item array."
   ]
  },
  {
   "cell_type": "code",
   "execution_count": null,
   "id": "4e03e65b",
   "metadata": {},
   "outputs": [],
   "source": []
  }
 ],
 "metadata": {
  "kernelspec": {
   "display_name": "Python 3 (ipykernel)",
   "language": "python",
   "name": "python3"
  },
  "language_info": {
   "codemirror_mode": {
    "name": "ipython",
    "version": 3
   },
   "file_extension": ".py",
   "mimetype": "text/x-python",
   "name": "python",
   "nbconvert_exporter": "python",
   "pygments_lexer": "ipython3",
   "version": "3.9.12"
  }
 },
 "nbformat": 4,
 "nbformat_minor": 5
}
