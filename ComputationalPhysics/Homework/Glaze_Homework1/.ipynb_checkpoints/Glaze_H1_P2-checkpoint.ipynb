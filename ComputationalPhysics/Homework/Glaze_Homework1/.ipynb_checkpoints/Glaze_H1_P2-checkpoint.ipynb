{
 "cells": [
  {
   "cell_type": "code",
   "execution_count": 1,
   "id": "8a80751b",
   "metadata": {},
   "outputs": [],
   "source": [
    "import numpy as np"
   ]
  },
  {
   "cell_type": "markdown",
   "id": "05e8a222",
   "metadata": {},
   "source": [
    "# Problem 2:"
   ]
  },
  {
   "cell_type": "markdown",
   "id": "01c63387",
   "metadata": {},
   "source": [
    "## Part a) Quadratic Formula"
   ]
  },
  {
   "cell_type": "code",
   "execution_count": 2,
   "id": "027c980d",
   "metadata": {},
   "outputs": [],
   "source": [
    "def quadratic(a,b,c):\n",
    "    root1 = ((-b+np.sqrt(b**2-4*a*c))/(2*a))\n",
    "    root2 = ((-b-np.sqrt(b**2 - 4*a*c))/(2*a))\n",
    "    if np.isnan(root1) or np.isnan(root2):\n",
    "        print('\"Nan\" root detected: the quadratic entered may have imaginary roots.')\n",
    "    return(root1,root2)"
   ]
  },
  {
   "cell_type": "code",
   "execution_count": 3,
   "id": "eef57c33",
   "metadata": {},
   "outputs": [
    {
     "name": "stdout",
     "output_type": "stream",
     "text": [
      "(-9.999894245993346e-07, -999999.999999)\n"
     ]
    }
   ],
   "source": [
    "print(quadratic(0.001,1000,0.001))"
   ]
  },
  {
   "cell_type": "markdown",
   "id": "82399ca9",
   "metadata": {},
   "source": [
    "## Part b) A different form of the Quadratic Formula"
   ]
  },
  {
   "cell_type": "code",
   "execution_count": 4,
   "id": "fc548f9e",
   "metadata": {},
   "outputs": [],
   "source": [
    "def quadratic_v2(a,b,c):\n",
    "    #this method differs from the original, described in greater detail in the TeX pdf.\n",
    "    root1 = ((2*c)/(-b-np.sqrt(b**2 - 4*a*c)))\n",
    "    root2 = (((2*c)/(-b+np.sqrt(b**2 - 4*a*c))))\n",
    "    if np.isnan(root1) or np.isnan(root2):\n",
    "        print('\"Nan\" root detected: the quadratic entered may have imaginary roots.')\n",
    "    first_solns = quadratic(a,b,c)\n",
    "    second_solns = (root1,root2)\n",
    "    print(\"roots according to the first version of the quadratic equation: \",first_solns)\n",
    "    print()\n",
    "    print(\"roots according to the second version of the quadtratic equation: \",second_solns)\n",
    "    print()\n",
    "    return(root1,root2)"
   ]
  },
  {
   "cell_type": "code",
   "execution_count": 5,
   "id": "d6d75cd3",
   "metadata": {},
   "outputs": [
    {
     "name": "stdout",
     "output_type": "stream",
     "text": [
      "roots according to the first version of the quadratic equation:  (-9.999894245993346e-07, -999999.999999)\n",
      "\n",
      "roots according to the second version of the quadtratic equation:  (-1.000000000001e-06, -1000010.5755125057)\n",
      "\n"
     ]
    },
    {
     "data": {
      "text/plain": [
       "(-1.000000000001e-06, -1000010.5755125057)"
      ]
     },
     "execution_count": 5,
     "metadata": {},
     "output_type": "execute_result"
    }
   ],
   "source": [
    "quadratic_v2(0.001,1000,0.001)"
   ]
  },
  {
   "cell_type": "markdown",
   "id": "97619951",
   "metadata": {},
   "source": [
    "The \"true\" roots for the above quadratic are -1e6 and -1e-6 (can be verified by solving by hand or using a higher level software, e.g. Desmos or Mathematica). When calculating the roots using this program, the two different definitions of the quadratic formula give slightly different results. It would appear that in each case the method using the '-' operator instead of the '+' gives the result closest to the true root. This is likely due to the way Python stores floats and how they interact with various mathematical operations."
   ]
  },
  {
   "cell_type": "markdown",
   "id": "c76aad2c",
   "metadata": {},
   "source": [
    "## Part c) The best solutions"
   ]
  },
  {
   "cell_type": "code",
   "execution_count": 6,
   "id": "3c1b8384",
   "metadata": {},
   "outputs": [],
   "source": [
    "def quadratic_best(a,b,c):\n",
    "    root1 = ((-b-np.sqrt(b**2 - 4*a*c))/(2*a))\n",
    "    root2 = ((2*c)/(-b-np.sqrt(b**2 - 4*a*c)))\n",
    "    if np.isnan(root1) or np.isnan(root2):\n",
    "        print('\"Nan\" root detected: the quadratic entered may have imaginary roots.')\n",
    "    return(root1,root2)"
   ]
  },
  {
   "cell_type": "code",
   "execution_count": 7,
   "id": "652ee1b4",
   "metadata": {},
   "outputs": [
    {
     "name": "stdout",
     "output_type": "stream",
     "text": [
      "(-999999.999999, -1.000000000001e-06)\n"
     ]
    }
   ],
   "source": [
    "print(quadratic_best(0.001,1000,0.001))"
   ]
  },
  {
   "cell_type": "markdown",
   "id": "784828ca",
   "metadata": {},
   "source": [
    "The above roots are the \"best\" for reasons explained in part b."
   ]
  },
  {
   "cell_type": "code",
   "execution_count": null,
   "id": "4aa38a8f",
   "metadata": {},
   "outputs": [],
   "source": []
  }
 ],
 "metadata": {
  "kernelspec": {
   "display_name": "Python 3 (ipykernel)",
   "language": "python",
   "name": "python3"
  },
  "language_info": {
   "codemirror_mode": {
    "name": "ipython",
    "version": 3
   },
   "file_extension": ".py",
   "mimetype": "text/x-python",
   "name": "python",
   "nbconvert_exporter": "python",
   "pygments_lexer": "ipython3",
   "version": "3.9.16"
  }
 },
 "nbformat": 4,
 "nbformat_minor": 5
}
