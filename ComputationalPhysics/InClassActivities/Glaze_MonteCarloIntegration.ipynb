{
 "cells": [
  {
   "cell_type": "code",
   "execution_count": 1,
   "id": "179825db",
   "metadata": {},
   "outputs": [],
   "source": [
    "import numpy as np\n",
    "from matplotlib import pyplot as plt\n",
    "import numpy.random as rd\n",
    "from scipy.constants import c,h,k,Stefan_Boltzmann\n",
    "import scipy"
   ]
  },
  {
   "cell_type": "code",
   "execution_count": 2,
   "id": "f9209adb",
   "metadata": {},
   "outputs": [],
   "source": [
    "def MonteCarloMeanValueIntegrator(f,a,b,N):\n",
    "    #takes arguments of a single-variable function, endpoints, and Max number of points\n",
    "    xvals = (rd.rand(N)*(b-a))+a\n",
    "    fn_vals = f(xvals)\n",
    "    \n",
    "    avg = 1/N * np.sum(fn_vals)\n",
    "    avgsqrd = 1/N * np.sum(fn_vals**2)\n",
    "    var = avgsqrd - avg**2\n",
    "    \n",
    "    I = (b-a)/N * np.sum(fn_vals)\n",
    "    Err = (b-a)*np.sqrt(var)/np.sqrt(N)\n",
    "    return(I,Err)\n",
    "\n",
    "\n",
    "def frdDiff(f,a,b,h,N):\n",
    "    #forward difference method\n",
    "    xvals = np.linspace(a,b,N)\n",
    "    return((f(xvals+h)-f(xvals))/h)\n",
    "\n",
    "def bkdDiff(f,a,b,h,N):\n",
    "    #backward difference method\n",
    "    xvals = np.linspace(a,b,N)\n",
    "    return((f(xvals)-f(xvals-h))/h)\n",
    "\n",
    "def cenDiff(f,a,b,h,N):\n",
    "    #central difference method\n",
    "    xvals = np.linspace(a,b,N)\n",
    "    return((f(xvals+h/2)-f(xvals-h/2))/h)"
   ]
  },
  {
   "cell_type": "code",
   "execution_count": 3,
   "id": "ac127df0",
   "metadata": {},
   "outputs": [],
   "source": [
    "def Planck(l,T=5800):\n",
    "    return((8*np.pi*h*c**2)/(l**5 *(np.exp((h*c)/(l*k*T))-1)))\n",
    "\n",
    "def yucky(x):\n",
    "    return(np.sin((1/(x*(2-x))))**2)"
   ]
  },
  {
   "cell_type": "markdown",
   "id": "82362f17",
   "metadata": {},
   "source": [
    "## Monte Carlo Integration results:"
   ]
  },
  {
   "cell_type": "code",
   "execution_count": 6,
   "id": "245b7d3a",
   "metadata": {},
   "outputs": [],
   "source": [
    "I,err = MonteCarloMeanValueIntegrator(yucky,0,2,int(1e8))"
   ]
  },
  {
   "cell_type": "code",
   "execution_count": 12,
   "id": "878e9b26",
   "metadata": {
    "scrolled": true
   },
   "outputs": [
    {
     "name": "stdout",
     "output_type": "stream",
     "text": [
      "Using a Mean Value approach, we find I =  1.451497470573921  +/-  5.27068835076275e-05\n"
     ]
    }
   ],
   "source": [
    "print(\"Using a Mean Value approach, we find I = \",I, \" +/- \" ,err)"
   ]
  },
  {
   "cell_type": "markdown",
   "id": "44891ce8",
   "metadata": {},
   "source": [
    "## Numerical Differentiation:"
   ]
  },
  {
   "cell_type": "code",
   "execution_count": 5,
   "id": "4b8f98a3",
   "metadata": {},
   "outputs": [],
   "source": [
    "left_bound = 1e-7\n",
    "right_bound = 2e-6\n",
    "num_points = 1000\n",
    "\n",
    "xpoints = np.linspace(left_bound,right_bound,num_points)\n",
    "dPlanck = cenDiff(Planck,left_bound,right_bound,1e-8,num_points)\n",
    "\n"
   ]
  },
  {
   "cell_type": "code",
   "execution_count": null,
   "id": "d3a936dc",
   "metadata": {},
   "outputs": [],
   "source": []
  }
 ],
 "metadata": {
  "kernelspec": {
   "display_name": "Python 3 (ipykernel)",
   "language": "python",
   "name": "python3"
  },
  "language_info": {
   "codemirror_mode": {
    "name": "ipython",
    "version": 3
   },
   "file_extension": ".py",
   "mimetype": "text/x-python",
   "name": "python",
   "nbconvert_exporter": "python",
   "pygments_lexer": "ipython3",
   "version": "3.9.16"
  }
 },
 "nbformat": 4,
 "nbformat_minor": 5
}
