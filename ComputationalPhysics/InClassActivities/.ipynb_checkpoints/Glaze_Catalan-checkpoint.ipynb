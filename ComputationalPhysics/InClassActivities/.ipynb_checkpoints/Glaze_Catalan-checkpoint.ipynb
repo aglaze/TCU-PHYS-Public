{
 "cells": [
  {
   "cell_type": "code",
   "execution_count": 38,
   "id": "3adbd6f9",
   "metadata": {},
   "outputs": [],
   "source": [
    "#c0 = 1\n",
    "#cn+1 = (4n+2)/(n+2) * cn\n",
    "\n",
    "def recursive_cn(n):\n",
    "    if n==0:\n",
    "        return(1) #define base case for recursive function\n",
    "    else:\n",
    "        return(int((4*n + 2)/(n+2) * recursive_cn(n-1))) #return the c_(n-1)\n"
   ]
  },
  {
   "cell_type": "code",
   "execution_count": 39,
   "id": "eecf7187",
   "metadata": {},
   "outputs": [
    {
     "name": "stdout",
     "output_type": "stream",
     "text": [
      "1\n",
      "1\n",
      "2\n",
      "5\n",
      "14\n",
      "42\n",
      "132\n",
      "429\n",
      "1430\n",
      "4862\n",
      "16796\n",
      "58786\n",
      "208012\n",
      "742900\n",
      "2674440\n",
      "9694845\n",
      "35357670\n",
      "129644790\n",
      "477638700\n"
     ]
    }
   ],
   "source": [
    "n=0\n",
    "print_var=1 #defining c_0 = 1\n",
    "\n",
    "while print_var<1000000000:\n",
    "    print(print_var) #printing the c_n's\n",
    "    print_var = recursive_cn(n) #calling the recursive function to get the current c_n\n",
    "    n+=1 #iterate n"
   ]
  },
  {
   "cell_type": "code",
   "execution_count": null,
   "id": "576b83db",
   "metadata": {},
   "outputs": [],
   "source": []
  }
 ],
 "metadata": {
  "kernelspec": {
   "display_name": "Python 3 (ipykernel)",
   "language": "python",
   "name": "python3"
  },
  "language_info": {
   "codemirror_mode": {
    "name": "ipython",
    "version": 3
   },
   "file_extension": ".py",
   "mimetype": "text/x-python",
   "name": "python",
   "nbconvert_exporter": "python",
   "pygments_lexer": "ipython3",
   "version": "3.9.12"
  }
 },
 "nbformat": 4,
 "nbformat_minor": 5
}
