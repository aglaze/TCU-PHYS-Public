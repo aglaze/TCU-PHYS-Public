{
 "cells": [
  {
   "cell_type": "code",
   "execution_count": 14,
   "id": "42e7ea04",
   "metadata": {},
   "outputs": [
    {
     "name": "stdout",
     "output_type": "stream",
     "text": [
      "Requirement already satisfied: vpython in c:\\users\\user\\anaconda3\\envs\\tcuphys\\lib\\site-packages (7.6.4)\n",
      "Requirement already satisfied: autobahn<27,>=22.6.1 in c:\\users\\user\\anaconda3\\envs\\tcuphys\\lib\\site-packages (from vpython) (23.1.2)\n",
      "Requirement already satisfied: ipykernel in c:\\users\\user\\anaconda3\\envs\\tcuphys\\lib\\site-packages (from vpython) (6.21.2)\n",
      "Requirement already satisfied: numpy in c:\\users\\user\\anaconda3\\envs\\tcuphys\\lib\\site-packages (from vpython) (1.23.1)\n",
      "Requirement already satisfied: jupyter-server-proxy in c:\\users\\user\\anaconda3\\envs\\tcuphys\\lib\\site-packages (from vpython) (3.2.2)\n",
      "Requirement already satisfied: jupyter in c:\\users\\user\\anaconda3\\envs\\tcuphys\\lib\\site-packages (from vpython) (1.0.0)\n",
      "Requirement already satisfied: setuptools in c:\\users\\user\\anaconda3\\envs\\tcuphys\\lib\\site-packages (from autobahn<27,>=22.6.1->vpython) (61.2.0)\n",
      "Requirement already satisfied: hyperlink>=21.0.0 in c:\\users\\user\\anaconda3\\envs\\tcuphys\\lib\\site-packages (from autobahn<27,>=22.6.1->vpython) (21.0.0)\n",
      "Requirement already satisfied: txaio>=21.2.1 in c:\\users\\user\\anaconda3\\envs\\tcuphys\\lib\\site-packages (from autobahn<27,>=22.6.1->vpython) (23.1.1)\n",
      "Requirement already satisfied: cryptography>=3.4.6 in c:\\users\\user\\anaconda3\\envs\\tcuphys\\lib\\site-packages (from autobahn<27,>=22.6.1->vpython) (39.0.1)\n",
      "Requirement already satisfied: comm>=0.1.1 in c:\\users\\user\\anaconda3\\envs\\tcuphys\\lib\\site-packages (from ipykernel->vpython) (0.1.2)\n",
      "Requirement already satisfied: jupyter-core!=5.0.*,>=4.12 in c:\\users\\user\\anaconda3\\envs\\tcuphys\\lib\\site-packages (from ipykernel->vpython) (5.2.0)\n",
      "Requirement already satisfied: ipython>=7.23.1 in c:\\users\\user\\anaconda3\\envs\\tcuphys\\lib\\site-packages (from ipykernel->vpython) (8.4.0)\n",
      "Requirement already satisfied: pyzmq>=20 in c:\\users\\user\\anaconda3\\envs\\tcuphys\\lib\\site-packages (from ipykernel->vpython) (25.0.0)\n",
      "Requirement already satisfied: matplotlib-inline>=0.1 in c:\\users\\user\\anaconda3\\envs\\tcuphys\\lib\\site-packages (from ipykernel->vpython) (0.1.2)\n",
      "Requirement already satisfied: psutil in c:\\users\\user\\anaconda3\\envs\\tcuphys\\lib\\site-packages (from ipykernel->vpython) (5.9.4)\n",
      "Requirement already satisfied: nest-asyncio in c:\\users\\user\\anaconda3\\envs\\tcuphys\\lib\\site-packages (from ipykernel->vpython) (1.5.5)\n",
      "Requirement already satisfied: debugpy>=1.6.5 in c:\\users\\user\\anaconda3\\envs\\tcuphys\\lib\\site-packages (from ipykernel->vpython) (1.6.6)\n",
      "Requirement already satisfied: tornado>=6.1 in c:\\users\\user\\anaconda3\\envs\\tcuphys\\lib\\site-packages (from ipykernel->vpython) (6.2)\n",
      "Requirement already satisfied: traitlets>=5.4.0 in c:\\users\\user\\anaconda3\\envs\\tcuphys\\lib\\site-packages (from ipykernel->vpython) (5.9.0)\n",
      "Requirement already satisfied: jupyter-client>=6.1.12 in c:\\users\\user\\anaconda3\\envs\\tcuphys\\lib\\site-packages (from ipykernel->vpython) (7.4.9)\n",
      "Requirement already satisfied: packaging in c:\\users\\user\\anaconda3\\envs\\tcuphys\\lib\\site-packages (from ipykernel->vpython) (20.9)\n",
      "Requirement already satisfied: notebook in c:\\users\\user\\anaconda3\\envs\\tcuphys\\lib\\site-packages (from jupyter->vpython) (6.4.12)\n",
      "Requirement already satisfied: nbconvert in c:\\users\\user\\anaconda3\\envs\\tcuphys\\lib\\site-packages (from jupyter->vpython) (6.4.4)\n",
      "Requirement already satisfied: ipywidgets in c:\\users\\user\\anaconda3\\envs\\tcuphys\\lib\\site-packages (from jupyter->vpython) (7.6.5)\n",
      "Requirement already satisfied: qtconsole in c:\\users\\user\\anaconda3\\envs\\tcuphys\\lib\\site-packages (from jupyter->vpython) (5.4.0)\n",
      "Requirement already satisfied: jupyter-console in c:\\users\\user\\anaconda3\\envs\\tcuphys\\lib\\site-packages (from jupyter->vpython) (6.5.1)\n",
      "Requirement already satisfied: jupyter-server>=1.0 in c:\\users\\user\\anaconda3\\envs\\tcuphys\\lib\\site-packages (from jupyter-server-proxy->vpython) (2.3.0)\n",
      "Requirement already satisfied: aiohttp in c:\\users\\user\\anaconda3\\envs\\tcuphys\\lib\\site-packages (from jupyter-server-proxy->vpython) (3.8.4)\n",
      "Requirement already satisfied: simpervisor>=0.4 in c:\\users\\user\\anaconda3\\envs\\tcuphys\\lib\\site-packages (from jupyter-server-proxy->vpython) (0.4)\n",
      "Requirement already satisfied: cffi>=1.12 in c:\\users\\user\\anaconda3\\envs\\tcuphys\\lib\\site-packages (from cryptography>=3.4.6->autobahn<27,>=22.6.1->vpython) (1.15.1)\n",
      "Requirement already satisfied: idna>=2.5 in c:\\users\\user\\anaconda3\\envs\\tcuphys\\lib\\site-packages (from hyperlink>=21.0.0->autobahn<27,>=22.6.1->vpython) (3.4)\n",
      "Requirement already satisfied: decorator in c:\\users\\user\\anaconda3\\envs\\tcuphys\\lib\\site-packages (from ipython>=7.23.1->ipykernel->vpython) (5.1.1)\n",
      "Requirement already satisfied: prompt-toolkit!=3.0.0,!=3.0.1,<3.1.0,>=2.0.0 in c:\\users\\user\\anaconda3\\envs\\tcuphys\\lib\\site-packages (from ipython>=7.23.1->ipykernel->vpython) (3.0.36)\n",
      "Requirement already satisfied: jedi>=0.16 in c:\\users\\user\\anaconda3\\envs\\tcuphys\\lib\\site-packages (from ipython>=7.23.1->ipykernel->vpython) (0.18.1)\n",
      "Requirement already satisfied: stack-data in c:\\users\\user\\anaconda3\\envs\\tcuphys\\lib\\site-packages (from ipython>=7.23.1->ipykernel->vpython) (0.2.0)\n",
      "Requirement already satisfied: pickleshare in c:\\users\\user\\anaconda3\\envs\\tcuphys\\lib\\site-packages (from ipython>=7.23.1->ipykernel->vpython) (0.7.5)\n",
      "Requirement already satisfied: pygments>=2.4.0 in c:\\users\\user\\anaconda3\\envs\\tcuphys\\lib\\site-packages (from ipython>=7.23.1->ipykernel->vpython) (2.11.2)\n",
      "Requirement already satisfied: colorama in c:\\users\\user\\anaconda3\\envs\\tcuphys\\lib\\site-packages (from ipython>=7.23.1->ipykernel->vpython) (0.4.5)\n",
      "Requirement already satisfied: backcall in c:\\users\\user\\anaconda3\\envs\\tcuphys\\lib\\site-packages (from ipython>=7.23.1->ipykernel->vpython) (0.2.0)\n",
      "Requirement already satisfied: python-dateutil>=2.8.2 in c:\\users\\user\\anaconda3\\envs\\tcuphys\\lib\\site-packages (from jupyter-client>=6.1.12->ipykernel->vpython) (2.8.2)\n",
      "Requirement already satisfied: entrypoints in c:\\users\\user\\anaconda3\\envs\\tcuphys\\lib\\site-packages (from jupyter-client>=6.1.12->ipykernel->vpython) (0.4)\n",
      "Requirement already satisfied: pywin32>=1.0 in c:\\users\\user\\anaconda3\\envs\\tcuphys\\lib\\site-packages (from jupyter-core!=5.0.*,>=4.12->ipykernel->vpython) (302)\n",
      "Requirement already satisfied: platformdirs>=2.5 in c:\\users\\user\\anaconda3\\envs\\tcuphys\\lib\\site-packages (from jupyter-core!=5.0.*,>=4.12->ipykernel->vpython) (3.0.0)\n",
      "Requirement already satisfied: jupyter-server-terminals in c:\\users\\user\\anaconda3\\envs\\tcuphys\\lib\\site-packages (from jupyter-server>=1.0->jupyter-server-proxy->vpython) (0.4.4)\n",
      "Requirement already satisfied: anyio>=3.1.0 in c:\\users\\user\\anaconda3\\envs\\tcuphys\\lib\\site-packages (from jupyter-server>=1.0->jupyter-server-proxy->vpython) (3.6.2)\n",
      "Requirement already satisfied: nbformat>=5.3.0 in c:\\users\\user\\anaconda3\\envs\\tcuphys\\lib\\site-packages (from jupyter-server>=1.0->jupyter-server-proxy->vpython) (5.3.0)\n",
      "Requirement already satisfied: websocket-client in c:\\users\\user\\anaconda3\\envs\\tcuphys\\lib\\site-packages (from jupyter-server>=1.0->jupyter-server-proxy->vpython) (1.5.1)\n",
      "Requirement already satisfied: send2trash in c:\\users\\user\\anaconda3\\envs\\tcuphys\\lib\\site-packages (from jupyter-server>=1.0->jupyter-server-proxy->vpython) (1.8.0)\n",
      "Requirement already satisfied: argon2-cffi in c:\\users\\user\\anaconda3\\envs\\tcuphys\\lib\\site-packages (from jupyter-server>=1.0->jupyter-server-proxy->vpython) (21.3.0)\n",
      "Requirement already satisfied: jinja2 in c:\\users\\user\\anaconda3\\envs\\tcuphys\\lib\\site-packages (from jupyter-server>=1.0->jupyter-server-proxy->vpython) (3.0.3)\n",
      "Requirement already satisfied: jupyter-events>=0.4.0 in c:\\users\\user\\anaconda3\\envs\\tcuphys\\lib\\site-packages (from jupyter-server>=1.0->jupyter-server-proxy->vpython) (0.6.3)\n",
      "Requirement already satisfied: prometheus-client in c:\\users\\user\\anaconda3\\envs\\tcuphys\\lib\\site-packages (from jupyter-server>=1.0->jupyter-server-proxy->vpython) (0.14.1)\n",
      "Requirement already satisfied: terminado>=0.8.3 in c:\\users\\user\\anaconda3\\envs\\tcuphys\\lib\\site-packages (from jupyter-server>=1.0->jupyter-server-proxy->vpython) (0.13.1)\n",
      "Requirement already satisfied: pywinpty in c:\\users\\user\\anaconda3\\envs\\tcuphys\\lib\\site-packages (from jupyter-server>=1.0->jupyter-server-proxy->vpython) (2.0.10)\n",
      "Requirement already satisfied: beautifulsoup4 in c:\\users\\user\\anaconda3\\envs\\tcuphys\\lib\\site-packages (from nbconvert->jupyter->vpython) (4.11.1)\n",
      "Requirement already satisfied: bleach in c:\\users\\user\\anaconda3\\envs\\tcuphys\\lib\\site-packages (from nbconvert->jupyter->vpython) (4.1.0)\n",
      "Requirement already satisfied: testpath in c:\\users\\user\\anaconda3\\envs\\tcuphys\\lib\\site-packages (from nbconvert->jupyter->vpython) (0.6.0)\n",
      "Requirement already satisfied: defusedxml in c:\\users\\user\\anaconda3\\envs\\tcuphys\\lib\\site-packages (from nbconvert->jupyter->vpython) (0.7.1)\n",
      "Requirement already satisfied: nbclient<0.6.0,>=0.5.0 in c:\\users\\user\\anaconda3\\envs\\tcuphys\\lib\\site-packages (from nbconvert->jupyter->vpython) (0.5.13)\n",
      "Requirement already satisfied: jupyterlab-pygments in c:\\users\\user\\anaconda3\\envs\\tcuphys\\lib\\site-packages (from nbconvert->jupyter->vpython) (0.1.2)\n",
      "Requirement already satisfied: mistune<2,>=0.8.1 in c:\\users\\user\\anaconda3\\envs\\tcuphys\\lib\\site-packages (from nbconvert->jupyter->vpython) (0.8.4)\n",
      "Requirement already satisfied: pandocfilters>=1.4.1 in c:\\users\\user\\anaconda3\\envs\\tcuphys\\lib\\site-packages (from nbconvert->jupyter->vpython) (1.5.0)\n",
      "Requirement already satisfied: charset-normalizer<4.0,>=2.0 in c:\\users\\user\\anaconda3\\envs\\tcuphys\\lib\\site-packages (from aiohttp->jupyter-server-proxy->vpython) (2.1.1)\n",
      "Requirement already satisfied: aiosignal>=1.1.2 in c:\\users\\user\\anaconda3\\envs\\tcuphys\\lib\\site-packages (from aiohttp->jupyter-server-proxy->vpython) (1.3.1)\n",
      "Requirement already satisfied: yarl<2.0,>=1.0 in c:\\users\\user\\anaconda3\\envs\\tcuphys\\lib\\site-packages (from aiohttp->jupyter-server-proxy->vpython) (1.8.2)\n",
      "Requirement already satisfied: frozenlist>=1.1.1 in c:\\users\\user\\anaconda3\\envs\\tcuphys\\lib\\site-packages (from aiohttp->jupyter-server-proxy->vpython) (1.3.3)\n",
      "Requirement already satisfied: multidict<7.0,>=4.5 in c:\\users\\user\\anaconda3\\envs\\tcuphys\\lib\\site-packages (from aiohttp->jupyter-server-proxy->vpython) (6.0.4)\n",
      "Requirement already satisfied: attrs>=17.3.0 in c:\\users\\user\\anaconda3\\envs\\tcuphys\\lib\\site-packages (from aiohttp->jupyter-server-proxy->vpython) (21.4.0)\n",
      "Requirement already satisfied: async-timeout<5.0,>=4.0.0a3 in c:\\users\\user\\anaconda3\\envs\\tcuphys\\lib\\site-packages (from aiohttp->jupyter-server-proxy->vpython) (4.0.2)\n",
      "Requirement already satisfied: jupyterlab-widgets>=1.0.0 in c:\\users\\user\\anaconda3\\envs\\tcuphys\\lib\\site-packages (from ipywidgets->jupyter->vpython) (1.0.0)\n",
      "Requirement already satisfied: widgetsnbextension~=3.5.0 in c:\\users\\user\\anaconda3\\envs\\tcuphys\\lib\\site-packages (from ipywidgets->jupyter->vpython) (3.5.2)\n",
      "Requirement already satisfied: ipython-genutils~=0.2.0 in c:\\users\\user\\anaconda3\\envs\\tcuphys\\lib\\site-packages (from ipywidgets->jupyter->vpython) (0.2.0)\n",
      "Requirement already satisfied: pyparsing>=2.0.2 in c:\\users\\user\\anaconda3\\envs\\tcuphys\\lib\\site-packages (from packaging->ipykernel->vpython) (2.4.7)\n",
      "Requirement already satisfied: qtpy>=2.0.1 in c:\\users\\user\\anaconda3\\envs\\tcuphys\\lib\\site-packages (from qtconsole->jupyter->vpython) (2.3.0)\n",
      "Requirement already satisfied: sniffio>=1.1 in c:\\users\\user\\anaconda3\\envs\\tcuphys\\lib\\site-packages (from anyio>=3.1.0->jupyter-server>=1.0->jupyter-server-proxy->vpython) (1.3.0)\n",
      "Requirement already satisfied: pycparser in c:\\users\\user\\anaconda3\\envs\\tcuphys\\lib\\site-packages (from cffi>=1.12->cryptography>=3.4.6->autobahn<27,>=22.6.1->vpython) (2.21)\n",
      "Requirement already satisfied: parso<0.9.0,>=0.8.0 in c:\\users\\user\\anaconda3\\envs\\tcuphys\\lib\\site-packages (from jedi>=0.16->ipython>=7.23.1->ipykernel->vpython) (0.8.3)\n",
      "Requirement already satisfied: MarkupSafe>=2.0 in c:\\users\\user\\anaconda3\\envs\\tcuphys\\lib\\site-packages (from jinja2->jupyter-server>=1.0->jupyter-server-proxy->vpython) (2.1.1)\n",
      "Requirement already satisfied: python-json-logger>=2.0.4 in c:\\users\\user\\anaconda3\\envs\\tcuphys\\lib\\site-packages (from jupyter-events>=0.4.0->jupyter-server>=1.0->jupyter-server-proxy->vpython) (2.0.6)\n",
      "Requirement already satisfied: rfc3986-validator>=0.1.1 in c:\\users\\user\\anaconda3\\envs\\tcuphys\\lib\\site-packages (from jupyter-events>=0.4.0->jupyter-server>=1.0->jupyter-server-proxy->vpython) (0.1.1)\n",
      "Requirement already satisfied: jsonschema[format-nongpl]>=3.2.0 in c:\\users\\user\\anaconda3\\envs\\tcuphys\\lib\\site-packages (from jupyter-events>=0.4.0->jupyter-server>=1.0->jupyter-server-proxy->vpython) (4.4.0)\n",
      "Requirement already satisfied: pyyaml>=5.3 in c:\\users\\user\\anaconda3\\envs\\tcuphys\\lib\\site-packages (from jupyter-events>=0.4.0->jupyter-server>=1.0->jupyter-server-proxy->vpython) (6.0)\n",
      "Requirement already satisfied: rfc3339-validator in c:\\users\\user\\anaconda3\\envs\\tcuphys\\lib\\site-packages (from jupyter-events>=0.4.0->jupyter-server>=1.0->jupyter-server-proxy->vpython) (0.1.4)Note: you may need to restart the kernel to use updated packages.\n",
      "\n"
     ]
    },
    {
     "name": "stderr",
     "output_type": "stream",
     "text": [
      "WARNING: Ignoring invalid distribution -upyter-core (c:\\users\\user\\anaconda3\\envs\\tcuphys\\lib\\site-packages)\n",
      "WARNING: Ignoring invalid distribution -upyter-core (c:\\users\\user\\anaconda3\\envs\\tcuphys\\lib\\site-packages)\n",
      "WARNING: jsonschema 4.4.0 does not provide the extra 'format-nongpl'\n",
      "WARNING: Ignoring invalid distribution -upyter-core (c:\\users\\user\\anaconda3\\envs\\tcuphys\\lib\\site-packages)\n",
      "WARNING: Ignoring invalid distribution -upyter-core (c:\\users\\user\\anaconda3\\envs\\tcuphys\\lib\\site-packages)\n",
      "WARNING: Ignoring invalid distribution -upyter-core (c:\\users\\user\\anaconda3\\envs\\tcuphys\\lib\\site-packages)\n",
      "WARNING: Ignoring invalid distribution -upyter-core (c:\\users\\user\\anaconda3\\envs\\tcuphys\\lib\\site-packages)\n"
     ]
    },
    {
     "name": "stdout",
     "output_type": "stream",
     "text": [
      "Requirement already satisfied: fastjsonschema in c:\\users\\user\\anaconda3\\envs\\tcuphys\\lib\\site-packages (from nbformat>=5.3.0->jupyter-server>=1.0->jupyter-server-proxy->vpython) (2.15.1)\n",
      "Requirement already satisfied: wcwidth in c:\\users\\user\\anaconda3\\envs\\tcuphys\\lib\\site-packages (from prompt-toolkit!=3.0.0,!=3.0.1,<3.1.0,>=2.0.0->ipython>=7.23.1->ipykernel->vpython) (0.2.5)\n",
      "Requirement already satisfied: six>=1.5 in c:\\users\\user\\anaconda3\\envs\\tcuphys\\lib\\site-packages (from python-dateutil>=2.8.2->jupyter-client>=6.1.12->ipykernel->vpython) (1.16.0)\n",
      "Requirement already satisfied: argon2-cffi-bindings in c:\\users\\user\\anaconda3\\envs\\tcuphys\\lib\\site-packages (from argon2-cffi->jupyter-server>=1.0->jupyter-server-proxy->vpython) (21.2.0)\n",
      "Requirement already satisfied: soupsieve>1.2 in c:\\users\\user\\anaconda3\\envs\\tcuphys\\lib\\site-packages (from beautifulsoup4->nbconvert->jupyter->vpython) (2.3.1)\n",
      "Requirement already satisfied: webencodings in c:\\users\\user\\anaconda3\\envs\\tcuphys\\lib\\site-packages (from bleach->nbconvert->jupyter->vpython) (0.5.1)\n",
      "Requirement already satisfied: asttokens in c:\\users\\user\\anaconda3\\envs\\tcuphys\\lib\\site-packages (from stack-data->ipython>=7.23.1->ipykernel->vpython) (2.0.5)\n",
      "Requirement already satisfied: pure-eval in c:\\users\\user\\anaconda3\\envs\\tcuphys\\lib\\site-packages (from stack-data->ipython>=7.23.1->ipykernel->vpython) (0.2.2)\n",
      "Requirement already satisfied: executing in c:\\users\\user\\anaconda3\\envs\\tcuphys\\lib\\site-packages (from stack-data->ipython>=7.23.1->ipykernel->vpython) (0.8.3)\n",
      "Requirement already satisfied: pyrsistent!=0.17.0,!=0.17.1,!=0.17.2,>=0.14.0 in c:\\users\\user\\anaconda3\\envs\\tcuphys\\lib\\site-packages (from jsonschema[format-nongpl]>=3.2.0->jupyter-events>=0.4.0->jupyter-server>=1.0->jupyter-server-proxy->vpython) (0.18.0)\n"
     ]
    }
   ],
   "source": [
    "pip install vpython"
   ]
  },
  {
   "cell_type": "code",
   "execution_count": 15,
   "id": "b78cca3c",
   "metadata": {},
   "outputs": [
    {
     "ename": "ContextualVersionConflict",
     "evalue": "(jupyter-client 7.2.2 (c:\\users\\user\\anaconda3\\envs\\tcuphys\\lib\\site-packages), Requirement.parse('jupyter-client>=7.4.4'), {'jupyter-server'})",
     "output_type": "error",
     "traceback": [
      "\u001b[1;31m---------------------------------------------------------------------------\u001b[0m",
      "\u001b[1;31mContextualVersionConflict\u001b[0m                 Traceback (most recent call last)",
      "Input \u001b[1;32mIn [15]\u001b[0m, in \u001b[0;36m<cell line: 4>\u001b[1;34m()\u001b[0m\n\u001b[0;32m      2\u001b[0m \u001b[38;5;28;01mimport\u001b[39;00m \u001b[38;5;21;01mnumpy\u001b[39;00m \u001b[38;5;28;01mas\u001b[39;00m \u001b[38;5;21;01mnp\u001b[39;00m\n\u001b[0;32m      3\u001b[0m \u001b[38;5;28;01mfrom\u001b[39;00m \u001b[38;5;21;01mmatplotlib\u001b[39;00m \u001b[38;5;28;01mimport\u001b[39;00m pylab \u001b[38;5;28;01mas\u001b[39;00m plt\n\u001b[1;32m----> 4\u001b[0m \u001b[38;5;28;01mfrom\u001b[39;00m \u001b[38;5;21;01mvpython\u001b[39;00m \u001b[38;5;28;01mimport\u001b[39;00m sphere, color, rate\n",
      "File \u001b[1;32m~\\anaconda3\\envs\\TCUPHYS\\lib\\site-packages\\vpython\\__init__.py:6\u001b[0m, in \u001b[0;36m<module>\u001b[1;34m\u001b[0m\n\u001b[0;32m      3\u001b[0m \u001b[38;5;28;01mfrom\u001b[39;00m \u001b[38;5;21;01m.\u001b[39;00m\u001b[38;5;21;01mgs_version\u001b[39;00m \u001b[38;5;28;01mimport\u001b[39;00m glowscript_version\n\u001b[0;32m      5\u001b[0m \u001b[38;5;28;01mtry\u001b[39;00m:\n\u001b[1;32m----> 6\u001b[0m     __version__ \u001b[38;5;241m=\u001b[39m \u001b[43mget_distribution\u001b[49m\u001b[43m(\u001b[49m\u001b[38;5;18;43m__name__\u001b[39;49m\u001b[43m)\u001b[49m\u001b[38;5;241m.\u001b[39mversion\n\u001b[0;32m      7\u001b[0m \u001b[38;5;28;01mexcept\u001b[39;00m DistributionNotFound:\n\u001b[0;32m      8\u001b[0m     \u001b[38;5;66;03m# package is not installed\u001b[39;00m\n\u001b[0;32m      9\u001b[0m     \u001b[38;5;28;01mpass\u001b[39;00m\n",
      "File \u001b[1;32m~\\anaconda3\\envs\\TCUPHYS\\lib\\site-packages\\pkg_resources\\__init__.py:477\u001b[0m, in \u001b[0;36mget_distribution\u001b[1;34m(dist)\u001b[0m\n\u001b[0;32m    475\u001b[0m     dist \u001b[38;5;241m=\u001b[39m Requirement\u001b[38;5;241m.\u001b[39mparse(dist)\n\u001b[0;32m    476\u001b[0m \u001b[38;5;28;01mif\u001b[39;00m \u001b[38;5;28misinstance\u001b[39m(dist, Requirement):\n\u001b[1;32m--> 477\u001b[0m     dist \u001b[38;5;241m=\u001b[39m \u001b[43mget_provider\u001b[49m\u001b[43m(\u001b[49m\u001b[43mdist\u001b[49m\u001b[43m)\u001b[49m\n\u001b[0;32m    478\u001b[0m \u001b[38;5;28;01mif\u001b[39;00m \u001b[38;5;129;01mnot\u001b[39;00m \u001b[38;5;28misinstance\u001b[39m(dist, Distribution):\n\u001b[0;32m    479\u001b[0m     \u001b[38;5;28;01mraise\u001b[39;00m \u001b[38;5;167;01mTypeError\u001b[39;00m(\u001b[38;5;124m\"\u001b[39m\u001b[38;5;124mExpected string, Requirement, or Distribution\u001b[39m\u001b[38;5;124m\"\u001b[39m, dist)\n",
      "File \u001b[1;32m~\\anaconda3\\envs\\TCUPHYS\\lib\\site-packages\\pkg_resources\\__init__.py:353\u001b[0m, in \u001b[0;36mget_provider\u001b[1;34m(moduleOrReq)\u001b[0m\n\u001b[0;32m    351\u001b[0m \u001b[38;5;124;03m\"\"\"Return an IResourceProvider for the named module or requirement\"\"\"\u001b[39;00m\n\u001b[0;32m    352\u001b[0m \u001b[38;5;28;01mif\u001b[39;00m \u001b[38;5;28misinstance\u001b[39m(moduleOrReq, Requirement):\n\u001b[1;32m--> 353\u001b[0m     \u001b[38;5;28;01mreturn\u001b[39;00m working_set\u001b[38;5;241m.\u001b[39mfind(moduleOrReq) \u001b[38;5;129;01mor\u001b[39;00m \u001b[43mrequire\u001b[49m\u001b[43m(\u001b[49m\u001b[38;5;28;43mstr\u001b[39;49m\u001b[43m(\u001b[49m\u001b[43mmoduleOrReq\u001b[49m\u001b[43m)\u001b[49m\u001b[43m)\u001b[49m[\u001b[38;5;241m0\u001b[39m]\n\u001b[0;32m    354\u001b[0m \u001b[38;5;28;01mtry\u001b[39;00m:\n\u001b[0;32m    355\u001b[0m     module \u001b[38;5;241m=\u001b[39m sys\u001b[38;5;241m.\u001b[39mmodules[moduleOrReq]\n",
      "File \u001b[1;32m~\\anaconda3\\envs\\TCUPHYS\\lib\\site-packages\\pkg_resources\\__init__.py:897\u001b[0m, in \u001b[0;36mWorkingSet.require\u001b[1;34m(self, *requirements)\u001b[0m\n\u001b[0;32m    888\u001b[0m \u001b[38;5;28;01mdef\u001b[39;00m \u001b[38;5;21mrequire\u001b[39m(\u001b[38;5;28mself\u001b[39m, \u001b[38;5;241m*\u001b[39mrequirements):\n\u001b[0;32m    889\u001b[0m     \u001b[38;5;124;03m\"\"\"Ensure that distributions matching `requirements` are activated\u001b[39;00m\n\u001b[0;32m    890\u001b[0m \n\u001b[0;32m    891\u001b[0m \u001b[38;5;124;03m    `requirements` must be a string or a (possibly-nested) sequence\u001b[39;00m\n\u001b[1;32m   (...)\u001b[0m\n\u001b[0;32m    895\u001b[0m \u001b[38;5;124;03m    included, even if they were already activated in this working set.\u001b[39;00m\n\u001b[0;32m    896\u001b[0m \u001b[38;5;124;03m    \"\"\"\u001b[39;00m\n\u001b[1;32m--> 897\u001b[0m     needed \u001b[38;5;241m=\u001b[39m \u001b[38;5;28;43mself\u001b[39;49m\u001b[38;5;241;43m.\u001b[39;49m\u001b[43mresolve\u001b[49m\u001b[43m(\u001b[49m\u001b[43mparse_requirements\u001b[49m\u001b[43m(\u001b[49m\u001b[43mrequirements\u001b[49m\u001b[43m)\u001b[49m\u001b[43m)\u001b[49m\n\u001b[0;32m    899\u001b[0m     \u001b[38;5;28;01mfor\u001b[39;00m dist \u001b[38;5;129;01min\u001b[39;00m needed:\n\u001b[0;32m    900\u001b[0m         \u001b[38;5;28mself\u001b[39m\u001b[38;5;241m.\u001b[39madd(dist)\n",
      "File \u001b[1;32m~\\anaconda3\\envs\\TCUPHYS\\lib\\site-packages\\pkg_resources\\__init__.py:788\u001b[0m, in \u001b[0;36mWorkingSet.resolve\u001b[1;34m(self, requirements, env, installer, replace_conflicting, extras)\u001b[0m\n\u001b[0;32m    785\u001b[0m \u001b[38;5;28;01mif\u001b[39;00m dist \u001b[38;5;129;01mnot\u001b[39;00m \u001b[38;5;129;01min\u001b[39;00m req:\n\u001b[0;32m    786\u001b[0m     \u001b[38;5;66;03m# Oops, the \"best\" so far conflicts with a dependency\u001b[39;00m\n\u001b[0;32m    787\u001b[0m     dependent_req \u001b[38;5;241m=\u001b[39m required_by[req]\n\u001b[1;32m--> 788\u001b[0m     \u001b[38;5;28;01mraise\u001b[39;00m VersionConflict(dist, req)\u001b[38;5;241m.\u001b[39mwith_context(dependent_req)\n\u001b[0;32m    790\u001b[0m \u001b[38;5;66;03m# push the new requirements onto the stack\u001b[39;00m\n\u001b[0;32m    791\u001b[0m new_requirements \u001b[38;5;241m=\u001b[39m dist\u001b[38;5;241m.\u001b[39mrequires(req\u001b[38;5;241m.\u001b[39mextras)[::\u001b[38;5;241m-\u001b[39m\u001b[38;5;241m1\u001b[39m]\n",
      "\u001b[1;31mContextualVersionConflict\u001b[0m: (jupyter-client 7.2.2 (c:\\users\\user\\anaconda3\\envs\\tcuphys\\lib\\site-packages), Requirement.parse('jupyter-client>=7.4.4'), {'jupyter-server'})"
     ]
    }
   ],
   "source": [
    "#import packages\n",
    "import numpy as np\n",
    "from matplotlib import pylab as plt\n",
    "from vpython import sphere, color, rate"
   ]
  },
  {
   "cell_type": "code",
   "execution_count": 13,
   "id": "9216d6dd",
   "metadata": {},
   "outputs": [
    {
     "name": "stdout",
     "output_type": "stream",
     "text": [
      "494.4106662338041\n"
     ]
    }
   ],
   "source": [
    "#1a\n",
    "\n",
    "#determining value for a5 (not sure if this is what is on the hw. Can't see value for a5)\n",
    "def a5(A,Z):\n",
    "    if A %2 == 0 and Z %2 == 0:\n",
    "        return 12.0\n",
    "    elif A %2 == 0 and Z %2 != 0:\n",
    "        return -12.0\n",
    "    else:\n",
    "        return 0\n",
    "    \n",
    "#function for binding energy B\n",
    "def bind_energy(A,Z):\n",
    "    a1= 15.8\n",
    "    a2= 18.3\n",
    "    a3= 0.714\n",
    "    a4= 23.2\n",
    "    \n",
    "    return ((a1*A) - (a2*A**(2/3)) - a3*((Z**2)/(A**(1/3))) - a4*(((A-2*Z)**2)/A) - (a5(A,Z)/(A**(1/2))))\n",
    "\n",
    "\n",
    "print(bind_energy(58,28))"
   ]
  },
  {
   "cell_type": "code",
   "execution_count": 5,
   "id": "9f28c48f",
   "metadata": {},
   "outputs": [
    {
     "name": "stdout",
     "output_type": "stream",
     "text": [
      "8.524321831617312\n"
     ]
    }
   ],
   "source": [
    "#1b\n",
    "\n",
    "#create a function for the binding energy per nucleon (B/A)\n",
    "def binding_nucleon(A,Z):\n",
    "    return bind_energy(A,Z)/A                  #eq B/A\n",
    "    \n",
    "print(binding_nucleon(58,28))"
   ]
  },
  {
   "cell_type": "code",
   "execution_count": 6,
   "id": "d59f572e",
   "metadata": {},
   "outputs": [
    {
     "name": "stdout",
     "output_type": "stream",
     "text": [
      "83 7.603579430048542\n"
     ]
    }
   ],
   "source": [
    "#1c\n",
    "#constants\n",
    "a1= 15.8\n",
    "a2= 18.3\n",
    "a3= 0.714\n",
    "a4= 23.2\n",
    "Z= 28\n",
    "\n",
    "#for loop for A from Z to 3Z\n",
    "for A in range(Z, 3*Z):\n",
    "    if A %2 == 0 and Z %2 == 0:\n",
    "        a5 = 12.0\n",
    "    elif A %2 == 0 and Z %2 != 0:\n",
    "        a5 = -12.0\n",
    "    else:\n",
    "        a5 = 0\n",
    "\n",
    "b_energy = (((a1*A) - (a2*A**(2/3)) - a3*((Z**2)/(A**(1/3))) - a4*(((A-2*Z)**2)/A) - (a5/(A**(1/2)))))\n",
    "n_energy = b_energy/A\n",
    "print(A,n_energy)"
   ]
  },
  {
   "cell_type": "code",
   "execution_count": 7,
   "id": "856c927d",
   "metadata": {},
   "outputs": [
    {
     "ename": "TypeError",
     "evalue": "object of type 'int' has no len()",
     "output_type": "error",
     "traceback": [
      "\u001b[1;31m---------------------------------------------------------------------------\u001b[0m",
      "\u001b[1;31mTypeError\u001b[0m                                 Traceback (most recent call last)",
      "Input \u001b[1;32mIn [7]\u001b[0m, in \u001b[0;36m<cell line: 11>\u001b[1;34m()\u001b[0m\n\u001b[0;32m      9\u001b[0m         \u001b[38;5;28;01melse\u001b[39;00m:\n\u001b[0;32m     10\u001b[0m             a5 \u001b[38;5;241m=\u001b[39m \u001b[38;5;241m0\u001b[39m\n\u001b[1;32m---> 11\u001b[0m \u001b[38;5;28;43mlen\u001b[39;49m\u001b[43m(\u001b[49m\u001b[43mA\u001b[49m\u001b[43m)\u001b[49m\n\u001b[0;32m     12\u001b[0m \u001b[38;5;28mprint\u001b[39m(A,n_energy)\n",
      "\u001b[1;31mTypeError\u001b[0m: object of type 'int' has no len()"
     ]
    }
   ],
   "source": [
    "#1d\n",
    "#for loop for Z in a range from 1-100\n",
    "for Z in range(1,101):\n",
    "    for A in range(Z, 3*Z):             #calculate the A value from Z input\n",
    "        if A %2 == 0 and Z %2 == 0:\n",
    "            a5 = 12.0\n",
    "        elif A %2 == 0 and Z %2 != 0:\n",
    "            a5 = -12.0\n",
    "        else:\n",
    "            a5 = 0\n",
    "len(A)\n",
    "print(A,n_energy)"
   ]
  },
  {
   "cell_type": "code",
   "execution_count": 8,
   "id": "56315ae9",
   "metadata": {},
   "outputs": [],
   "source": [
    "#1e\n",
    "#Need to look at 1d to see if values are correct in order to plot"
   ]
  },
  {
   "cell_type": "code",
   "execution_count": 9,
   "id": "e3d25ceb",
   "metadata": {},
   "outputs": [
    {
     "name": "stdout",
     "output_type": "stream",
     "text": [
      "-9.999894245993346e-07 -999999.999999\n"
     ]
    }
   ],
   "source": [
    "#2a\n",
    "#functions for the +/- quadratic eqs.\n",
    "def f():                                       #function for the positive square root value\n",
    "    return (-b+(b**2-(4*a*c))**(1/2))/(2*a)\n",
    "\n",
    "def g():                                       #function for the negative square root value\n",
    "    return (-b-(b**2-(4*a*c))**(1/2))/(2*a)\n",
    "\n",
    "#constants\n",
    "a = .001                                       #x**2 value\n",
    "b = 1000                                       #x value\n",
    "c = .001                                       #constant value\n",
    "\n",
    "print(f(),g())\n",
    "\n"
   ]
  },
  {
   "cell_type": "code",
   "execution_count": 10,
   "id": "a70d557c",
   "metadata": {},
   "outputs": [
    {
     "name": "stdout",
     "output_type": "stream",
     "text": [
      "-1.000000000001e-06 -1000010.5755125057\n"
     ]
    }
   ],
   "source": [
    "#2b\n",
    "#functions for the -/+ inverse quadratic eqs.\n",
    "def f_inv():                                   #function for the inverse, using the negative square root value\n",
    "    return (2*c)/(-b-(b**2-(4*a*c))**(1/2))\n",
    "\n",
    "def g_inv():                                   #function for the inverse, using the positive square root value\n",
    "    return (2*c)/(-b+(b**2-(4*a*c))**(1/2))\n",
    "\n",
    "#constants pulled through from above\n",
    "print(f_inv(),g_inv())\n"
   ]
  },
  {
   "cell_type": "code",
   "execution_count": null,
   "id": "13f63100",
   "metadata": {},
   "outputs": [],
   "source": [
    "#3a\n",
    "#needs work. Could not get animations or spheres to work\n",
    "\n",
    "#constants\n",
    "Mer_radius= 2440\n",
    "Ven_radius= 6052\n",
    "Earth_radius= 6371\n",
    "Mars_radius= 3386\n",
    "Jup_radius= 69173\n",
    "Sat_radius= 57316\n",
    "Sun_radius=695500\n",
    "\n",
    "Mer_r_o= 59.9\n",
    "Ven_r_o= 108.2\n",
    "Earth_r_o= 149.6\n",
    "Mars_r_o= 227.9\n",
    "Jup_r_o= 778.5\n",
    "Sat_r_o= 1433.4\n",
    "\n",
    "Mer_p= 88.0\n",
    "Ven_p= 224.7\n",
    "Earth_p= 365.3\n",
    "Mars_p= 687.0\n",
    "Jup_p= 4331.6\n",
    "Sat_p= 10759.2\n",
    "\n",
    "#attempt to get sphere of the sun\n",
    "sun = sphere(radius = Sun_radius,color=color.yellow)\n",
    "#s = np.empty(7,sphere)\n",
    "\n",
    "#for n in range(7):\n",
    "    #s[n] = sphere()\n",
    "\n",
    "sphere()"
   ]
  },
  {
   "cell_type": "code",
   "execution_count": null,
   "id": "f032abd3",
   "metadata": {},
   "outputs": [],
   "source": [
    "#test code from textbook to try to get some sort of result\n",
    "from math import cos,sin,pi \n",
    "from numpy import arange \n",
    "s = sphere(radius=0.1) \n",
    "d = display()\n",
    "\n",
    "for theta in arange(0,10*pi,0.1): \n",
    "    rate(30) \n",
    "    x = cos(theta) \n",
    "    y = sin(theta) \n",
    "    s.pos = [x,y,0]"
   ]
  }
 ],
 "metadata": {
  "kernelspec": {
   "display_name": "Python 3 (ipykernel)",
   "language": "python",
   "name": "python3"
  },
  "language_info": {
   "codemirror_mode": {
    "name": "ipython",
    "version": 3
   },
   "file_extension": ".py",
   "mimetype": "text/x-python",
   "name": "python",
   "nbconvert_exporter": "python",
   "pygments_lexer": "ipython3",
   "version": "3.9.12"
  }
 },
 "nbformat": 4,
 "nbformat_minor": 5
}
