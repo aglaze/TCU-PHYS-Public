{
 "cells": [
  {
   "cell_type": "code",
   "execution_count": 1,
   "id": "72894e66",
   "metadata": {},
   "outputs": [],
   "source": [
    "import numpy as np\n",
    "import scipy.optimize"
   ]
  },
  {
   "cell_type": "code",
   "execution_count": 2,
   "id": "1cc1acb4",
   "metadata": {},
   "outputs": [],
   "source": [
    "def relaxation(f,i,p):\n",
    "    #arguments of f, the function, i, the initial guess, and p, the precision\n",
    "    x=i\n",
    "    num_iters = 0\n",
    "    while(np.abs(f(x)-x)>p):\n",
    "        x = f(x)\n",
    "        num_iters += 1\n",
    "    return(x,num_iters)"
   ]
  },
  {
   "cell_type": "code",
   "execution_count": 3,
   "id": "9cbe5c73",
   "metadata": {},
   "outputs": [],
   "source": [
    "my_result = relaxation(np.cos,0,1e-6)"
   ]
  },
  {
   "cell_type": "code",
   "execution_count": 6,
   "id": "1b305c6f",
   "metadata": {},
   "outputs": [],
   "source": [
    "def cos_root(x):\n",
    "    return(np.cos(x)-x)\n",
    "\n",
    "scipy_result = scipy.optimize.root_scalar(cos_root,method = 'brentq',bracket=[0,np.pi],xtol=1e-6)"
   ]
  },
  {
   "cell_type": "code",
   "execution_count": 7,
   "id": "da31325d",
   "metadata": {},
   "outputs": [
    {
     "name": "stdout",
     "output_type": "stream",
     "text": [
      "Comparison: \n",
      "my result:     (0.7390845495752126, 34)\n",
      "\n",
      "Scipy result:        converged: True\n",
      "           flag: 'converged'\n",
      " function_calls: 8\n",
      "     iterations: 7\n",
      "           root: 0.739085133227063\n"
     ]
    }
   ],
   "source": [
    "print(\"Comparison: \")\n",
    "print(\"my result:    \",my_result)\n",
    "print()\n",
    "print(\"Scipy result: \",scipy_result)"
   ]
  },
  {
   "cell_type": "code",
   "execution_count": null,
   "id": "58f52162",
   "metadata": {},
   "outputs": [],
   "source": []
  }
 ],
 "metadata": {
  "kernelspec": {
   "display_name": "Python 3 (ipykernel)",
   "language": "python",
   "name": "python3"
  },
  "language_info": {
   "codemirror_mode": {
    "name": "ipython",
    "version": 3
   },
   "file_extension": ".py",
   "mimetype": "text/x-python",
   "name": "python",
   "nbconvert_exporter": "python",
   "pygments_lexer": "ipython3",
   "version": "3.9.16"
  }
 },
 "nbformat": 4,
 "nbformat_minor": 5
}
