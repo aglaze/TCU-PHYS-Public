{
 "cells": [
  {
   "cell_type": "code",
   "execution_count": 1,
   "id": "b2b4aa6f",
   "metadata": {},
   "outputs": [],
   "source": [
    "import numpy as np\n",
    "from scipy.constants import c,h,k,Stefan_Boltzmann\n",
    "import scipy"
   ]
  },
  {
   "cell_type": "code",
   "execution_count": 2,
   "id": "f08e7324",
   "metadata": {},
   "outputs": [],
   "source": [
    "def Planck(l,T=5800):\n",
    "    return((8*np.pi*h*c**2)/(l**5 *(np.exp((h*c)/(l*k*T))-1)))"
   ]
  },
  {
   "cell_type": "code",
   "execution_count": 3,
   "id": "3a9982e4",
   "metadata": {},
   "outputs": [],
   "source": [
    "#trapezoid integrator:\n",
    "def trap_int(a,b,N,f):\n",
    "    #note diff between h and H:\n",
    "    #    H is the thickness of the slices\n",
    "    #    h is Planck's constant\n",
    "    H = (b-a)/N\n",
    "    \n",
    "    #defining the sum used in the trapezoid rule:\n",
    "    trapsum = 0\n",
    "    for i in range(1,N):\n",
    "        trapsum += f(a+i*H)\n",
    "    \n",
    "    #returning the resulting area\n",
    "    return(H*(1/2 * f(a) + 1/2 * f(b) + trapsum))"
   ]
  },
  {
   "cell_type": "code",
   "execution_count": 4,
   "id": "9bf6901c",
   "metadata": {},
   "outputs": [],
   "source": [
    "total_flux = trap_int(1e-8,1e-2,1000000,Planck)\n",
    "#Adjusting the limits greatly effects the accuracy of the results.\n",
    "#Best agreement with the Stefan-Boltzmann Law comes from using more inclusive limits and a greater N"
   ]
  },
  {
   "cell_type": "code",
   "execution_count": 5,
   "id": "bc8a7370",
   "metadata": {},
   "outputs": [
    {
     "name": "stdout",
     "output_type": "stream",
     "text": [
      "I (total flux):                           256675077.73065513\n",
      "\n",
      "I/4 (Radiant Emittance):                  64168769.43266378\n",
      "Stefan-Boltzmann Law:                     64168769.43111582\n",
      "% diff between I/4 and Stefan-Boltzmann:  2.412329924451794e-09\n",
      "\n",
      "I/4pi (Radiance):                         20425553.694665115\n"
     ]
    }
   ],
   "source": [
    "print(\"I (total flux):                          \",total_flux)\n",
    "print()\n",
    "print(\"I/4 (Radiant Emittance):                 \",total_flux/4)\n",
    "print(\"Stefan-Boltzmann Law:                    \", Stefan_Boltzmann*(5800**4))\n",
    "print(\"% diff between I/4 and Stefan-Boltzmann: \",100*((total_flux/4 - Stefan_Boltzmann*(5800**4))/(Stefan_Boltzmann*(5800**4))))\n",
    "print()\n",
    "print(\"I/4pi (Radiance):                        \",total_flux/(4*np.pi))"
   ]
  },
  {
   "cell_type": "code",
   "execution_count": 6,
   "id": "15eca212",
   "metadata": {},
   "outputs": [],
   "source": [
    "#Calculating the Error:\n",
    "# e2 = 1/3 (I2-I1)\n",
    "\n",
    "#error for trapezoidal integrator:\n",
    "I2 = trap_int(1e-8,1e-2,1000000,Planck)\n",
    "I1 = trap_int(1e-8,1e-2,500000,Planck)\n",
    "\n",
    "e2 = 1/3 * (I2-I1)"
   ]
  },
  {
   "cell_type": "code",
   "execution_count": 7,
   "id": "ab607051",
   "metadata": {},
   "outputs": [
    {
     "name": "stdout",
     "output_type": "stream",
     "text": [
      "-0.0002632637818654378\n"
     ]
    }
   ],
   "source": [
    "print(e2)"
   ]
  },
  {
   "cell_type": "code",
   "execution_count": 8,
   "id": "d5ee4c0e",
   "metadata": {},
   "outputs": [],
   "source": [
    "#Comparing with scipy.integrate.quad()\n",
    "\n",
    "scipy_result = scipy.integrate.quad(Planck,1e-8,1e-2)"
   ]
  },
  {
   "cell_type": "code",
   "execution_count": 9,
   "id": "285fc49f",
   "metadata": {},
   "outputs": [
    {
     "name": "stdout",
     "output_type": "stream",
     "text": [
      "Trapezoid:          (256675077.73065513, -0.0002632637818654378)\n",
      "Scipy Integration:  (256675077.73261064, 0.00189361625110962)\n",
      "% diff:             -7.618617292591814e-10\n"
     ]
    }
   ],
   "source": [
    "print(\"Trapezoid:         \",(I2,e2))\n",
    "print(\"Scipy Integration: \",scipy_result)\n",
    "print(\"% diff:            \", (100*(I2-scipy_result[0])/scipy_result[0]))"
   ]
  },
  {
   "cell_type": "markdown",
   "id": "e08e28bb",
   "metadata": {},
   "source": [
    "### Since we used such a large number of steps for the trapezoid integration, we get very good agreement with Scipy."
   ]
  },
  {
   "cell_type": "code",
   "execution_count": null,
   "id": "7e1148c8",
   "metadata": {},
   "outputs": [],
   "source": []
  }
 ],
 "metadata": {
  "kernelspec": {
   "display_name": "Python 3 (ipykernel)",
   "language": "python",
   "name": "python3"
  },
  "language_info": {
   "codemirror_mode": {
    "name": "ipython",
    "version": 3
   },
   "file_extension": ".py",
   "mimetype": "text/x-python",
   "name": "python",
   "nbconvert_exporter": "python",
   "pygments_lexer": "ipython3",
   "version": "3.9.16"
  }
 },
 "nbformat": 4,
 "nbformat_minor": 5
}
