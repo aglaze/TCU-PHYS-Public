{
 "cells": [
  {
   "cell_type": "code",
   "execution_count": 1,
   "id": "25d80035",
   "metadata": {},
   "outputs": [],
   "source": [
    "import numpy as np\n",
    "from matplotlib import pyplot as plt\n",
    "import time"
   ]
  },
  {
   "cell_type": "markdown",
   "id": "c3037554",
   "metadata": {},
   "source": [
    "# Problem 1:"
   ]
  },
  {
   "cell_type": "code",
   "execution_count": 2,
   "id": "9bc659ad",
   "metadata": {},
   "outputs": [],
   "source": [
    "def isEven(a):\n",
    "    #simple function to check for even or odd A\n",
    "    if a%2==0:\n",
    "        return True\n",
    "    else:\n",
    "        return False\n",
    "\n",
    "def Binding_Energy(A,Z):\n",
    "    a1 = 15.8 #values of a1, a2, etc. taken from homework prompt\n",
    "    a2 = 18.3\n",
    "    a3 = 0.714\n",
    "    a4 = 23.2\n",
    "    #The assignment didn't have guidelines for a5, so I'm using the\n",
    "    #    same values given for a similar problem from PHYS 60323,\n",
    "    #    Advanced Analysis and Modeling with Dr. Frinchaboy.\n",
    "    if not isEven(A):\n",
    "        a5=0\n",
    "    elif isEven(Z):\n",
    "        a5=12.0\n",
    "    else:\n",
    "        a5=-12.0\n",
    "    return(a1*A-a2*A**(2/3)-a3*(Z**2)/(A**(1/3))-a4*((A-2*Z)**2)/A-a5/(A**(1/2)))"
   ]
  },
  {
   "cell_type": "markdown",
   "id": "88907226",
   "metadata": {},
   "source": [
    "## Part a) Finding the Binding Energy for A = 58 and Z = 28"
   ]
  },
  {
   "cell_type": "code",
   "execution_count": 3,
   "id": "60fb521d",
   "metadata": {},
   "outputs": [
    {
     "name": "stdout",
     "output_type": "stream",
     "text": [
      "494.4106662338041  MeV\n"
     ]
    }
   ],
   "source": [
    "print(Binding_Energy(58,28),\" MeV\")"
   ]
  },
  {
   "cell_type": "markdown",
   "id": "4497f336",
   "metadata": {},
   "source": [
    "## Part b) Printing B/A"
   ]
  },
  {
   "cell_type": "code",
   "execution_count": 4,
   "id": "39bf0851",
   "metadata": {},
   "outputs": [],
   "source": [
    "def Binding_Energy_Per_Nucleon(A,Z):\n",
    "    #we define a new function that calls the original function.\n",
    "    #this new function returns the binding energy divided by the mass number\n",
    "    return((Binding_Energy(A,Z))/A)"
   ]
  },
  {
   "cell_type": "code",
   "execution_count": 5,
   "id": "c4455a22",
   "metadata": {},
   "outputs": [
    {
     "name": "stdout",
     "output_type": "stream",
     "text": [
      "8.524321831617312  MeV/Nucleon\n"
     ]
    }
   ],
   "source": [
    "print(Binding_Energy_Per_Nucleon(58,28),\" MeV/Nucleon\")"
   ]
  },
  {
   "cell_type": "markdown",
   "id": "f30f5d61",
   "metadata": {},
   "source": [
    "## Part c) Most Stable Mass number for a given Atomic number"
   ]
  },
  {
   "cell_type": "code",
   "execution_count": 6,
   "id": "08a816e1",
   "metadata": {},
   "outputs": [],
   "source": [
    "def Most_Stable(Z):\n",
    "    highest_energy = -np.inf\n",
    "    #we iterate through A=Z to A=3Z, as per the instructions\n",
    "    for A in range(Z,(3*Z+1)):\n",
    "        #we call our Binding energy per nucleon from the previous function\n",
    "        current_energy = Binding_Energy_Per_Nucleon(A,Z)\n",
    "        \n",
    "        #and compare to the current highest energy\n",
    "        if current_energy>highest_energy:\n",
    "            #if true, we store the current energy and mass number\n",
    "            highest_energy = current_energy\n",
    "            most_stable_A = A\n",
    "    return(most_stable_A,Binding_Energy_Per_Nucleon(most_stable_A,Z))\n",
    "\n",
    "def Part_c_Presentation(Z):\n",
    "    #this is just to answer the problem prompt...\n",
    "    a, b_a = Most_Stable(Z)\n",
    "    print(\"For a given atomic number Z=\",str(Z),\", the most stable mass number is A=\",str(a),\" with a binding energy of B/A=\",str(b_a),\" MeV per nucleon.\")"
   ]
  },
  {
   "cell_type": "code",
   "execution_count": 7,
   "id": "38f48578",
   "metadata": {},
   "outputs": [
    {
     "name": "stdout",
     "output_type": "stream",
     "text": [
      "For a given atomic number Z= 21 , the most stable mass number is A= 46  with a binding energy of B/A= 8.64524515417385  MeV per nucleon.\n"
     ]
    }
   ],
   "source": [
    "Part_c_Presentation(21)"
   ]
  },
  {
   "cell_type": "markdown",
   "id": "a9b5e255",
   "metadata": {},
   "source": [
    "## Part d) Maximum Binding Energy for Z = 1 to Z = 100"
   ]
  },
  {
   "cell_type": "code",
   "execution_count": 8,
   "id": "05dcda59",
   "metadata": {},
   "outputs": [],
   "source": [
    "def Max_Binding_Energy(zmin=1,zmax=100):\n",
    "    #initializing lists for storing A's, Z's, and B/A's\n",
    "    z_list = []\n",
    "    a_list = []\n",
    "    b_a_list = []\n",
    "    #iterates through the min Z to the max Z\n",
    "    for Z in range(zmin,(zmax+1)):\n",
    "        #building the lists, calling the function from part C\n",
    "        z_list.append(Z)\n",
    "        a_list.append(Most_Stable(Z)[0])\n",
    "        b_a_list.append(Most_Stable(Z)[1])\n",
    "    return(z_list,b_a_list)\n",
    "\n",
    "def Part_d_Presentation(zmin=1,zmax=100):\n",
    "    Zs, BAs = Max_Binding_Energy(zmin=zmin,zmax=zmax)\n",
    "    print(\"Z:          Binding Energy Per Nucleon:\")\n",
    "    print()\n",
    "    for i in range(len(Zs)):\n",
    "        print(Zs[i],\"        \",BAs[i])"
   ]
  },
  {
   "cell_type": "code",
   "execution_count": 9,
   "id": "bea2c31a",
   "metadata": {},
   "outputs": [
    {
     "name": "stdout",
     "output_type": "stream",
     "text": [
      "Z with highest binding Energy per Nucleon:\n"
     ]
    },
    {
     "data": {
      "text/plain": [
       "27"
      ]
     },
     "execution_count": 9,
     "metadata": {},
     "output_type": "execute_result"
    }
   ],
   "source": [
    "print(\"Z with highest binding Energy per Nucleon:\")\n",
    "((Max_Binding_Energy()[1]).index(max(Max_Binding_Energy()[1])))+1"
   ]
  },
  {
   "cell_type": "code",
   "execution_count": 10,
   "id": "7a6412dc",
   "metadata": {
    "scrolled": true
   },
   "outputs": [
    {
     "name": "stdout",
     "output_type": "stream",
     "text": [
      "Z:          Binding Energy Per Nucleon:\n",
      "\n",
      "1          5.234569973833937\n",
      "2          3.836055291727471\n",
      "3          5.956224457871426\n",
      "4          6.105626049846103\n",
      "5          6.8568421469089404\n",
      "6          7.039010911331331\n",
      "7          7.494877480930497\n",
      "8          7.557256623426572\n",
      "9          7.895075047676241\n",
      "10          7.8820075921951815\n",
      "11          8.148731677524701\n",
      "12          8.14424691358025\n",
      "13          8.316935086899244\n",
      "14          8.320211813171491\n",
      "15          8.432088603495778\n",
      "16          8.438501445309871\n",
      "17          8.535766876460082\n",
      "18          8.517283540595392\n",
      "19          8.60350258662576\n",
      "20          8.584312327756763\n",
      "21          8.64524515417385\n",
      "22          8.630187635956576\n",
      "23          8.674231215192751\n",
      "24          8.655896848847506\n",
      "25          8.696209540295092\n",
      "26          8.6712771266563\n",
      "27          8.703395365721606\n",
      "28          8.681476079276997\n",
      "29          8.701892332826546\n",
      "30          8.679661743547898\n",
      "31          8.698674127089637\n",
      "32          8.672234613569024\n",
      "33          8.68608676598511\n",
      "34          8.661920112793785\n",
      "35          8.66986318125092\n",
      "36          8.643756740647492\n",
      "37          8.65122100898184\n",
      "38          8.62468758862648\n",
      "39          8.626209705117668\n",
      "40          8.601458922697612\n",
      "41          8.602095743829397\n",
      "42          8.574471826864336\n",
      "43          8.57334730998898\n",
      "44          8.547251083360656\n",
      "45          8.543214063361809\n",
      "46          8.51539341582992\n",
      "47          8.511447191596197\n",
      "48          8.484730038544189\n",
      "49          8.477384372217475\n",
      "50          8.450300676194312\n",
      "51          8.443129735650627\n",
      "52          8.416208194580694\n",
      "53          8.40645914597843\n",
      "54          8.3796544\n",
      "55          8.370125874170325\n",
      "56          8.343245378378366\n",
      "57          8.331715451698678\n",
      "58          8.304913526234472\n",
      "59          8.293628254614164\n",
      "60          8.26693508555308\n",
      "61          8.254065312530738\n",
      "62          8.227100921090218\n",
      "63          8.214487231110903\n",
      "64          8.188068266617224\n",
      "65          8.174178967512377\n",
      "66          8.147371222145393\n",
      "67          8.133326352716212\n",
      "68          8.10723194312579\n",
      "69          8.09256068053255\n",
      "70          8.066171867023916\n",
      "71          8.050658239788053\n",
      "72          8.02487119367845\n",
      "73          8.009597310049397\n",
      "74          7.983630302541585\n",
      "75          7.967654405350757\n",
      "76          7.941561477830051\n",
      "77          7.925590528312659\n",
      "78          7.900040803557746\n",
      "79          7.883710794596834\n",
      "80          7.858069056020968\n",
      "81          7.841254737532076\n",
      "82          7.815637401950839\n",
      "83          7.7990379843626565\n",
      "84          7.773830179092038\n",
      "85          7.756817287345508\n",
      "86          7.731595915909717\n",
      "87          7.714243287998225\n",
      "88          7.689050536183904\n",
      "89          7.671857408725147\n",
      "90          7.647063418205039\n",
      "91          7.629612646776248\n",
      "92          7.60485201579988\n",
      "93          7.587160409401683\n",
      "94          7.5624619216645685\n",
      "95          7.54460309298331\n",
      "96          7.520252588316344\n",
      "97          7.502529267312284\n",
      "98          7.478240120502762\n",
      "99          7.460345313563779\n",
      "100          7.436137607843095\n"
     ]
    }
   ],
   "source": [
    "Part_d_Presentation()"
   ]
  },
  {
   "cell_type": "markdown",
   "id": "2a4fc07c",
   "metadata": {},
   "source": [
    "## Part e) Plotting the results"
   ]
  },
  {
   "cell_type": "code",
   "execution_count": 11,
   "id": "01fa8265",
   "metadata": {},
   "outputs": [
    {
     "data": {
      "text/plain": [
       "Text(0.5, 1.0, 'Largest Binding Energy per Nucleon vs. Atomic Number')"
      ]
     },
     "execution_count": 11,
     "metadata": {},
     "output_type": "execute_result"
    },
    {
     "data": {
      "image/png": "[encoded data removed]",
      "text/plain": [
       "<Figure size 720x576 with 1 Axes>"
      ]
     },
     "metadata": {
      "needs_background": "light"
     },
     "output_type": "display_data"
    }
   ],
   "source": [
    "#get x and y data for the plot\n",
    "prob1x, prob1y = Max_Binding_Energy()\n",
    "\n",
    "plt.figure(figsize=(10,8))\n",
    "plt.scatter(prob1x,prob1y,s=5)\n",
    "plt.xlim(0,101)\n",
    "plt.ylim(3,10)\n",
    "plt.text(27,9,\"Max @ Z=27\",horizontalalignment=\"center\")\n",
    "plt.vlines(27,0,8.7,color=\"grey\",linestyle=\"dashed\")\n",
    "plt.xlabel(\"Atomic number, Z\",fontsize=12)\n",
    "plt.ylabel(\"Binding Energy per Nucleon, B/A (MeV/Nucleon)\",fontsize=12)\n",
    "plt.title(\"Largest Binding Energy per Nucleon vs. Atomic Number\",fontsize=16)"
   ]
  },
  {
   "cell_type": "markdown",
   "id": "05e8a222",
   "metadata": {},
   "source": [
    "# Problem 2:"
   ]
  },
  {
   "cell_type": "markdown",
   "id": "36c82a0b",
   "metadata": {},
   "source": [
    "## Part a) Quadratic Formula"
   ]
  },
  {
   "cell_type": "code",
   "execution_count": 12,
   "id": "e35d3927",
   "metadata": {},
   "outputs": [],
   "source": [
    "def quadratic(a,b,c):\n",
    "    return(((-b+np.sqrt(b**2-4*a*c))/(2*a)),((-b-np.sqrt(b**2 - 4*a*c))/(2*a)))"
   ]
  },
  {
   "cell_type": "code",
   "execution_count": 13,
   "id": "a0d7798b",
   "metadata": {},
   "outputs": [
    {
     "name": "stdout",
     "output_type": "stream",
     "text": [
      "(-9.999894245993346e-07, -999999.999999)\n"
     ]
    }
   ],
   "source": [
    "print(quadratic(0.001,1000,0.001))"
   ]
  },
  {
   "cell_type": "markdown",
   "id": "ba856c0c",
   "metadata": {},
   "source": [
    "## Part b) A different form of the Quadratic Formula"
   ]
  },
  {
   "cell_type": "code",
   "execution_count": 14,
   "id": "0d15da4e",
   "metadata": {},
   "outputs": [],
   "source": [
    "def quadratic_v2(a,b,c):\n",
    "    return(((2*c)/(-b-np.sqrt(b**2 - 4*a*c))),(((2*c)/(-b+np.sqrt(b**2 - 4*a*c)))))"
   ]
  },
  {
   "cell_type": "code",
   "execution_count": 15,
   "id": "2166f497",
   "metadata": {},
   "outputs": [
    {
     "name": "stdout",
     "output_type": "stream",
     "text": [
      "(-1.000000000001e-06, -1000010.5755125057)\n"
     ]
    }
   ],
   "source": [
    "print(quadratic_v2(0.001,1000,0.001))"
   ]
  },
  {
   "cell_type": "markdown",
   "id": "a51bb931",
   "metadata": {},
   "source": [
    "The two different definitions of the quadratic formula give slightly different results. It would appear that in each case the method using the '-' operator instead of the '+' gives the result closest to the true root. This is "
   ]
  },
  {
   "cell_type": "markdown",
   "id": "e9236427",
   "metadata": {},
   "source": [
    "## Part c) The best solutions"
   ]
  },
  {
   "cell_type": "code",
   "execution_count": 16,
   "id": "a56f984b",
   "metadata": {},
   "outputs": [],
   "source": [
    "def quadratic_best(a,b,c):\n",
    "    return(((-b-np.sqrt(b**2 - 4*a*c))/(2*a)),((2*c)/(-b-np.sqrt(b**2 - 4*a*c))))"
   ]
  },
  {
   "cell_type": "code",
   "execution_count": 17,
   "id": "adeecf50",
   "metadata": {},
   "outputs": [
    {
     "name": "stdout",
     "output_type": "stream",
     "text": [
      "(-999999.999999, -1.000000000001e-06)\n"
     ]
    }
   ],
   "source": [
    "print(quadratic_best(0.001,1000,0.001))"
   ]
  },
  {
   "cell_type": "markdown",
   "id": "d7f1facd",
   "metadata": {},
   "source": [
    "# Problem 3:"
   ]
  },
  {
   "cell_type": "code",
   "execution_count": 18,
   "id": "11dae3fc",
   "metadata": {},
   "outputs": [],
   "source": [
    "class planet(object):\n",
    "    def __init__(self,size,radius,period,angle,color):\n",
    "        #initialize planet object with properties of size, orbital radius, orbital period, and position\n",
    "        #    position of the objects is parameterized in polar coords by the orbital radius (const) and angle.\n",
    "        self.size = size\n",
    "        self.radius = radius\n",
    "        self.period = period\n",
    "        self.angle = angle\n",
    "        self.color = color\n",
    "    \n",
    "    def propagate(self,timespeed):\n",
    "        #only factor here is how fast time will be scaled\n",
    "        #planets are propagated according to their orbital period by adjusting their angle.\n",
    "        self.angle = self.angle + ((2*np.pi)/self.period)*timespeed\n",
    "\n"
   ]
  },
  {
   "cell_type": "code",
   "execution_count": 19,
   "id": "dc46538b",
   "metadata": {},
   "outputs": [],
   "source": [
    "def plot_planet(planet):\n",
    "    #we get x and y coordinates for plotting from the planet's radius and angle properties\n",
    "    x = planet.radius * np.cos(planet.angle)\n",
    "    y = planet.radius * np.sin(planet.angle)\n",
    "    \n",
    "    plt.scatter(x,y,c=planet.color,s=planet.size)\n",
    "#     plt.xlim(-planet.radius-1,planet.radius+1)\n",
    "#     plt.ylim(-planet.radius-1,planet.radius+1)\n",
    "    \n",
    "\n",
    "def run_simulation(c1,c2):\n",
    "    #initializing the celestial objects for the simulation\n",
    "    #    data from page 119 of Computational Physics\n",
    "    Sun = planet(695500*c2,0,1,0,'gold')\n",
    "    Mercury = planet(2440*c2,57.9*1e6,88.0,0,'grey')\n",
    "    Venus = planet(6052*c2,108.2*1e6,224.7,0,'orange')\n",
    "    Earth = planet(6371*c2,149.6*1e6,365.3,0,'b')\n",
    "    Mars = planet(3386*c2,227.9*1e6,687.0,0,'r')\n",
    "    Jupiter = planet(69173*c2,778.5*1e6,4331.6,0,'bisque')\n",
    "    Saturn = planet(57316*c2,1433.4*1e6,10759.2,0,'y')\n",
    "    \n",
    "    planets_list = [] #initializing a list to contain all the planets\n",
    "    planets_list.append(Sun)\n",
    "    planets_list.append(Mercury)\n",
    "    planets_list.append(Venus)\n",
    "    planets_list.append(Earth)\n",
    "    planets_list.append(Mars)\n",
    "    planets_list.append(Jupiter)\n",
    "    planets_list.append(Saturn)\n",
    "    \n",
    "    #NOTE: THIS PROGRAM DOES NOT YET CORRECTLY 'ANIMATE' THE SOLUTION\n",
    "    plt.figure(figsize=(10,10))\n",
    "    for t in range(0,100):\n",
    "        for i in planets_list:\n",
    "            plot_planet(i)\n",
    "            plt.xlim(-Saturn.radius,Saturn.radius)\n",
    "            plt.ylim(-Saturn.radius,Saturn.radius)\n",
    "            i.propagate(c1)\n",
    "        #time.sleep(0.5)"
   ]
  },
  {
   "cell_type": "code",
   "execution_count": 20,
   "id": "2b24cf57",
   "metadata": {},
   "outputs": [
    {
     "data": {
      "image/png": "[encoded data removed]",
      "text/plain": [
       "<Figure size 720x720 with 1 Axes>"
      ]
     },
     "metadata": {
      "needs_background": "light"
     },
     "output_type": "display_data"
    }
   ],
   "source": [
    "\n",
    "run_simulation(1,0.0001)"
   ]
  },
  {
   "cell_type": "code",
   "execution_count": null,
   "id": "65c22197",
   "metadata": {},
   "outputs": [],
   "source": []
  }
 ],
 "metadata": {
  "kernelspec": {
   "display_name": "Python 3 (ipykernel)",
   "language": "python",
   "name": "python3"
  },
  "language_info": {
   "codemirror_mode": {
    "name": "ipython",
    "version": 3
   },
   "file_extension": ".py",
   "mimetype": "text/x-python",
   "name": "python",
   "nbconvert_exporter": "python",
   "pygments_lexer": "ipython3",
   "version": "3.9.12"
  }
 },
 "nbformat": 4,
 "nbformat_minor": 5
}
