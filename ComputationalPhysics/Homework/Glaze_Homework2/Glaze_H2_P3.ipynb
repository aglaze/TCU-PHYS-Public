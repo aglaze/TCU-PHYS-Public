{
 "cells": [
  {
   "cell_type": "code",
   "execution_count": 1,
   "id": "85dcb87b",
   "metadata": {},
   "outputs": [],
   "source": [
    "import numpy as np\n",
    "import numpy.random as rd"
   ]
  },
  {
   "cell_type": "code",
   "execution_count": 2,
   "id": "ab9bf9e0",
   "metadata": {},
   "outputs": [],
   "source": [
    "def f(point):\n",
    "    #takes a 10-item list of r_i's as input\n",
    "\n",
    "    if (np.sum(point**2))<=1:\n",
    "        #checks if the sum of the squares is less than or equal to 1\n",
    "        #if true, the point is inside the sphere\n",
    "        return(1)\n",
    "    else:\n",
    "        #if false, the point is outside the sphere and it is not counted\n",
    "        return(0)\n",
    "\n",
    "# err = sqrt(I*(A-I))/sqrt(N)\n",
    "#    where A = area of bounds ( = 2**10 for a 10-d sphere in range -1,1 for all dimensions)\n",
    "#    and I = value of integral approx\n",
    "\n",
    "def integrate(f,N):\n",
    "    #assumes V = 2**10 for a 10-d sphere in range -1,1 for all dimensions\n",
    "    V = 2**10\n",
    "    \n",
    "    #initializing sum total:\n",
    "    S = 0\n",
    "    \n",
    "    #iterates for each point, adding to total for each point within the sphere\n",
    "    for i in range(N):\n",
    "        r = rd.uniform(-1,1,10) #generates a 10-length list of random values in range [-1,1)\n",
    "        S += f(r)\n",
    "        \n",
    "    I = (V/N)*S\n",
    "    err = np.sqrt(I*(V-I))/np.sqrt(N) #from Eq. 10.26\n",
    "    \n",
    "    #optional rounding:\n",
    "    I = round(I,5)\n",
    "    err = round(err,5)\n",
    "    return(I,err)"
   ]
  },
  {
   "cell_type": "code",
   "execution_count": 4,
   "id": "d9dcc9e4",
   "metadata": {},
   "outputs": [
    {
     "name": "stdout",
     "output_type": "stream",
     "text": [
      "Using Monte Carlo methods to integrate and find the 'volume' of a 10-dimensional hypersphere, we find a volume of \n",
      "I =  2.6368  +/-  0.0519\n"
     ]
    }
   ],
   "source": [
    "#now we integrate using N = 10^6 points\n",
    "results = integrate(f,int(1e6))\n",
    "\n",
    "print(\"Using Monte Carlo methods to integrate and find the 'volume' of a 10-dimensional hypersphere, we find a volume of \")\n",
    "print(\"I = \",results[0],\" +/- \",results[1])"
   ]
  },
  {
   "cell_type": "code",
   "execution_count": null,
   "id": "7b26d140",
   "metadata": {},
   "outputs": [],
   "source": []
  }
 ],
 "metadata": {
  "kernelspec": {
   "display_name": "Python 3 (ipykernel)",
   "language": "python",
   "name": "python3"
  },
  "language_info": {
   "codemirror_mode": {
    "name": "ipython",
    "version": 3
   },
   "file_extension": ".py",
   "mimetype": "text/x-python",
   "name": "python",
   "nbconvert_exporter": "python",
   "pygments_lexer": "ipython3",
   "version": "3.9.16"
  }
 },
 "nbformat": 4,
 "nbformat_minor": 5
}
