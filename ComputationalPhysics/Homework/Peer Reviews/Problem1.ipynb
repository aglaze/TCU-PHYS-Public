{
 "cells": [
  {
   "cell_type": "code",
   "execution_count": 1,
   "metadata": {},
   "outputs": [],
   "source": [
    "import numpy as np\n",
    "import matplotlib.pyplot as plt"
   ]
  },
  {
   "cell_type": "code",
   "execution_count": 2,
   "metadata": {},
   "outputs": [],
   "source": [
    "def phi(r,m1=3,m2=2,d=1):\n",
    "    m = m1 + m2\n",
    "    omegas = m/d**3\n",
    "    x1 = -(m2/m)*d\n",
    "    x2 = (m1/m)*d\n",
    "    r1 = np.array([x1,0])\n",
    "    r2 = np.array([x2,0])\n",
    "    r1s = r-r1\n",
    "    r2s = r-r1\n",
    "    rm1 = np.sqrt(np.dot(r1s,r1s))\n",
    "    rm2 = np.sqrt(np.dot(r2s,r2s))\n",
    "    \n",
    "    return -(m1/rm1) - (m2/rm2) - .5*omegas*np.dot(r,r)"
   ]
  },
  {
   "cell_type": "code",
   "execution_count": 3,
   "metadata": {},
   "outputs": [],
   "source": [
    "r = np.array([1,4])\n",
    "r1 = np.array([3,7])"
   ]
  },
  {
   "cell_type": "code",
   "execution_count": 4,
   "metadata": {},
   "outputs": [
    {
     "ename": "UFuncTypeError",
     "evalue": "ufunc 'subtract' did not contain a loop with signature matching types (dtype('<U1'), dtype('float64')) -> None",
     "output_type": "error",
     "traceback": [
      "\u001b[1;31m---------------------------------------------------------------------------\u001b[0m",
      "\u001b[1;31mUFuncTypeError\u001b[0m                            Traceback (most recent call last)",
      "Cell \u001b[1;32mIn[4], line 1\u001b[0m\n\u001b[1;32m----> 1\u001b[0m \u001b[43mphi\u001b[49m\u001b[43m(\u001b[49m\u001b[38;5;124;43m\"\u001b[39;49m\u001b[38;5;124;43ma\u001b[39;49m\u001b[38;5;124;43m\"\u001b[39;49m\u001b[43m)\u001b[49m\n",
      "Cell \u001b[1;32mIn[2], line 8\u001b[0m, in \u001b[0;36mphi\u001b[1;34m(r, m1, m2, d)\u001b[0m\n\u001b[0;32m      6\u001b[0m r1 \u001b[38;5;241m=\u001b[39m np\u001b[38;5;241m.\u001b[39marray([x1,\u001b[38;5;241m0\u001b[39m])\n\u001b[0;32m      7\u001b[0m r2 \u001b[38;5;241m=\u001b[39m np\u001b[38;5;241m.\u001b[39marray([x2,\u001b[38;5;241m0\u001b[39m])\n\u001b[1;32m----> 8\u001b[0m r1s \u001b[38;5;241m=\u001b[39m \u001b[43mr\u001b[49m\u001b[38;5;241;43m-\u001b[39;49m\u001b[43mr1\u001b[49m\n\u001b[0;32m      9\u001b[0m r2s \u001b[38;5;241m=\u001b[39m r\u001b[38;5;241m-\u001b[39mr1\n\u001b[0;32m     10\u001b[0m rm1 \u001b[38;5;241m=\u001b[39m np\u001b[38;5;241m.\u001b[39msqrt(np\u001b[38;5;241m.\u001b[39mdot(r1s,r1s))\n",
      "\u001b[1;31mUFuncTypeError\u001b[0m: ufunc 'subtract' did not contain a loop with signature matching types (dtype('<U1'), dtype('float64')) -> None"
     ]
    }
   ],
   "source": [
    "phi(\"a\")"
   ]
  },
  {
   "cell_type": "code",
   "execution_count": null,
   "metadata": {},
   "outputs": [],
   "source": [
    "a = .6\n",
    "b = 1\n",
    "N = 100000\n",
    "h = (b-a)/N\n",
    "cphi = 1\n",
    "x=0\n",
    "y=0\n",
    "pt = np.arange(a,b+h,h)\n",
    "dxs = []\n",
    "\n",
    "for i in pt:\n",
    "    r = np.array([i,y])\n",
    "    rh = np.array([i+h,y])\n",
    "    dx = (phi(rh)-phi(r))/h\n",
    "    dxs.append(dx)\n",
    "    #x += h\n",
    "    #y+=h\n",
    "    #print(cphi,x)\n",
    "    if abs(dx) < 1e-6:\n",
    "        break\n"
   ]
  },
  {
   "cell_type": "code",
   "execution_count": null,
   "metadata": {},
   "outputs": [],
   "source": [
    "dxs"
   ]
  },
  {
   "cell_type": "code",
   "execution_count": null,
   "metadata": {},
   "outputs": [],
   "source": [
    "def xs(x,y): return x**2 + y**2"
   ]
  },
  {
   "cell_type": "code",
   "execution_count": null,
   "metadata": {},
   "outputs": [],
   "source": [
    "dxs = []\n",
    "pts = np.arange(a,b,h)\n",
    "for i in pts:\n",
    "    dx = (xs(i+h,y) - xs(i,y))/h\n",
    "    dxs.append(dx)"
   ]
  },
  {
   "cell_type": "code",
   "execution_count": null,
   "metadata": {},
   "outputs": [],
   "source": [
    "plt.plot(pts,dxs)"
   ]
  },
  {
   "cell_type": "code",
   "execution_count": null,
   "metadata": {},
   "outputs": [],
   "source": []
  }
 ],
 "metadata": {
  "kernelspec": {
   "display_name": "Python 3 (ipykernel)",
   "language": "python",
   "name": "python3"
  },
  "language_info": {
   "codemirror_mode": {
    "name": "ipython",
    "version": 3
   },
   "file_extension": ".py",
   "mimetype": "text/x-python",
   "name": "python",
   "nbconvert_exporter": "python",
   "pygments_lexer": "ipython3",
   "version": "3.9.16"
  }
 },
 "nbformat": 4,
 "nbformat_minor": 4
}
